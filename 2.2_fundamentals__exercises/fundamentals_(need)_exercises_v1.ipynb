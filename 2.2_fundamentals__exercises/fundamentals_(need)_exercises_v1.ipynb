{
 "cells": [
  {
   "attachments": {},
   "cell_type": "markdown",
   "id": "123456",
   "metadata": {},
   "source": [
    "<div style=\"text-align:left;font-size:2em\"><span style=\"font-weight:bolder;font-size:1.25em\">SP2273 | Learning Portfolio</span><br><br><span style=\"font-weight:bold;color:darkred\">Fundamentals (Need) Exercises</span></div>"
   ]
  },
  {
   "cell_type": "markdown",
   "id": "4f4acfb3-1231-4f41-8acd-1ea3edc253de",
   "metadata": {},
   "source": [
    "- = vs ==\n",
    "- 3 types of brackets \n",
    "    1. () for functions\n",
    "    2. [] for lists\n",
    "    3. {} for storing data\n",
    "- .\n",
    "- math and numpy\n",
    "- # comments\n",
    "- # if vs else\n",
    "- # indentations\n",
    "\n"
   ]
  },
  {
   "cell_type": "code",
   "execution_count": 17,
   "id": "e030637f-d124-43b8-9725-3c24a8ca96d8",
   "metadata": {},
   "outputs": [],
   "source": []
  },
  {
   "cell_type": "code",
   "execution_count": 18,
   "id": "f8c95ad4-42eb-44d6-bc10-aaf10f2f704d",
   "metadata": {},
   "outputs": [
    {
     "name": "stdout",
     "output_type": "stream",
     "text": [
      "3 4 5.0\n"
     ]
    }
   ],
   "source": [
    "import math\n",
    "x, y = 3, 4\n",
    "z = math.sqrt(x**2 + y**2)\n",
    "print(x, y, z)"
   ]
  },
  {
   "cell_type": "markdown",
   "id": "56047952-3f3b-4ef7-9d17-258ff92c13ed",
   "metadata": {},
   "source": [
    "|No.|Term|Description|\n",
    "|:--|:--:|--:|\n",
    "|1|Function|Code that carries out a certain task when executed|\n",
    "|2|Arguments|Variables or text used to carry out functions|\n",
    "|3|Comments|Text that is usually used to highlight the purpose of code|\n",
    "|4|Indentations|Spaces (using tabs) that separate functions such as if, else|\n",
    "|5|Packages|Files that can be added to jupyter notebook to add certain functionalities|\n",
    "|6|.|Used to denote that a function belongs to something|\n",
    "|7|:|Used in functions such as if/else to separate the functionality of each code (i.e if: means the if block of code, else: means the else block of code|\n",
    "|8|[]|Square brackets are used to create lists|\n",
    "|9|[[] []]|Sets of square brackets are used to access elements from dictionaries or lists|\n",
    "|10|{}|Used to store data|"
   ]
  },
  {
   "cell_type": "code",
   "execution_count": null,
   "id": "4745d99d-c2c6-4a1d-af1b-8239bc480181",
   "metadata": {},
   "outputs": [],
   "source": [
    "5/2    #directly calculates 5 divided by 2 "
   ]
  },
  {
   "cell_type": "code",
   "execution_count": 10,
   "id": "a82ecc2a-d4c5-4780-81de-54b498747a83",
   "metadata": {},
   "outputs": [
    {
     "data": {
      "text/plain": [
       "2"
      ]
     },
     "execution_count": 10,
     "metadata": {},
     "output_type": "execute_result"
    }
   ],
   "source": [
    "5//2   #does integer division (returns the quotient)"
   ]
  },
  {
   "cell_type": "code",
   "execution_count": 6,
   "id": "5a79c905-5a5e-46be-9748-25e09295d986",
   "metadata": {},
   "outputs": [
    {
     "data": {
      "text/plain": [
       "1"
      ]
     },
     "execution_count": 6,
     "metadata": {},
     "output_type": "execute_result"
    }
   ],
   "source": [
    "5%2    #returns remainder after division"
   ]
  }
 ],
 "metadata": {
  "kernelspec": {
   "display_name": "Python 3 (ipykernel)",
   "language": "python",
   "name": "python3"
  },
  "language_info": {
   "codemirror_mode": {
    "name": "ipython",
    "version": 3
   },
   "file_extension": ".py",
   "mimetype": "text/x-python",
   "name": "python",
   "nbconvert_exporter": "python",
   "pygments_lexer": "ipython3",
   "version": "3.12.2"
  },
  "toc": {
   "base_numbering": 1,
   "nav_menu": {},
   "number_sections": true,
   "sideBar": true,
   "skip_h1_title": false,
   "title_cell": "Table of Contents",
   "title_sidebar": "Contents",
   "toc_cell": false,
   "toc_position": {},
   "toc_section_display": true,
   "toc_window_display": false
  },
  "vscode": {
   "interpreter": {
    "hash": "31f2aee4e71d21fbe5cf8b01ff0e069b9275f58929596ceb00d14d90e3e16cd6"
   }
  }
 },
 "nbformat": 4,
 "nbformat_minor": 5
}
