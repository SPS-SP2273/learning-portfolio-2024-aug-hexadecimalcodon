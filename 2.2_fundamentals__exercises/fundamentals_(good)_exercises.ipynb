{
 "cells": [
  {
   "attachments": {},
   "cell_type": "markdown",
   "id": "123456",
   "metadata": {},
   "source": [
    "<div style=\"text-align:left;font-size:2em\"><span style=\"font-weight:bolder;font-size:1.25em\">SP2273 | Learning Portfolio</span><br><br><span style=\"font-weight:bold;color:darkred\">Fundamentals (Good) Exercises</span></div>"
   ]
  },
  {
   "cell_type": "markdown",
   "id": "f6328479-6511-46ac-9fc0-f046c4c967d2",
   "metadata": {},
   "source": [
    "# Exercise 1 (f-strings to the rescue)  \n",
    "\n"
   ]
  },
  {
   "cell_type": "markdown",
   "id": "3ee4a3bc-bd32-42cd-9921-bcc2ca2f746d",
   "metadata": {},
   "source": [
    "## Task 1"
   ]
  },
  {
   "cell_type": "code",
   "execution_count": 5,
   "id": "07981f1b-884e-43d0-bb39-97f77262e833",
   "metadata": {},
   "outputs": [
    {
     "name": "stdin",
     "output_type": "stream",
     "text": [
      "Insert Name Here! fritz\n"
     ]
    },
    {
     "name": "stdout",
     "output_type": "stream",
     "text": [
      "How you doin fritz!\n"
     ]
    }
   ],
   "source": [
    "user_input = input('Insert Name Here!')\n",
    "print(f'How you doin {user_input}!')"
   ]
  },
  {
   "cell_type": "markdown",
   "id": "1ae8568a-e82c-43c7-930b-b33869346c08",
   "metadata": {},
   "source": [
    "## Task 2"
   ]
  },
  {
   "cell_type": "code",
   "execution_count": 1,
   "id": "0caf853f-7287-49d2-a26b-cfee501f1334",
   "metadata": {},
   "outputs": [
    {
     "name": "stdin",
     "output_type": "stream",
     "text": [
      "Name john\n",
      "Age 26\n"
     ]
    },
    {
     "name": "stdout",
     "output_type": "stream",
     "text": [
      " My name is john and I am 26 years old.\n"
     ]
    }
   ],
   "source": [
    "# don't leave spaces between function and parentheses\n",
    "name = input('Name')\n",
    "age = input('Age')\n",
    "\n",
    "print(f' My name is {name} and I am {age} years old.')"
   ]
  },
  {
   "cell_type": "markdown",
   "id": "90760632-6f1d-4538-8edb-470a55bd3e66",
   "metadata": {},
   "source": [
    "## Task 3"
   ]
  },
  {
   "cell_type": "code",
   "execution_count": 1,
   "id": "445bcec0-7865-4188-8772-59489225d534",
   "metadata": {},
   "outputs": [
    {
     "name": "stdout",
     "output_type": "stream",
     "text": [
      "The value of pi to 2 decimal places is: 3.14\n"
     ]
    }
   ],
   "source": [
    "pi = 3.141592653589793\n",
    "print(f'The value of pi to 2 decimal places is: {pi:.2f}')"
   ]
  },
  {
   "cell_type": "code",
   "execution_count": 2,
   "id": "98a32eb7-2d0a-4f24-806b-987b9202e5ed",
   "metadata": {},
   "outputs": [
    {
     "name": "stdout",
     "output_type": "stream",
     "text": [
      "The value of pi to 2 decimal places is: 3.142\n"
     ]
    }
   ],
   "source": [
    "print(f'The value of pi to 2 decimal places is: {pi:.3f}')"
   ]
  },
  {
   "cell_type": "code",
   "execution_count": 3,
   "id": "8f5d2d70-949d-4474-833a-215365ca6418",
   "metadata": {},
   "outputs": [
    {
     "name": "stdout",
     "output_type": "stream",
     "text": [
      "The value of pi to 2 decimal places is: 3.1416\n"
     ]
    }
   ],
   "source": [
    "print(f'The value of pi to 2 decimal places is: {pi:.4f}')"
   ]
  },
  {
   "cell_type": "markdown",
   "id": "b86f877e-aff4-4474-9d0d-8ea1337c268c",
   "metadata": {},
   "source": [
    "## Task 4"
   ]
  },
  {
   "cell_type": "code",
   "execution_count": 14,
   "id": "8b4b282a-7e77-42e1-b265-cdad6494706f",
   "metadata": {},
   "outputs": [
    {
     "name": "stdout",
     "output_type": "stream",
     "text": [
      "Apple      $ 0.99\n",
      "Banana     $ 0.59\n",
      "Orange     $ 1.29\n"
     ]
    }
   ],
   "source": [
    "fruit_1 = 'Apple'\n",
    "fruit_2 = 'Banana'\n",
    "fruit_3 = 'Orange'\n",
    "\n",
    "price_1 = 0.99\n",
    "price_2 = 0.59\n",
    "price_3 = 1.29\n",
    "\n",
    "print(f'{fruit_1:<10s} $ {price_1:<.2f}')     #how come fruit and price have different f-string formatting?\n",
    "print(f'{fruit_2:<10s} $ {price_2:<.2f}')\n",
    "print(f'{fruit_3:<10s} $ {price_3:<.2f}')"
   ]
  },
  {
   "cell_type": "markdown",
   "id": "febd086b-70d4-4b73-8291-fcf9c6f3c843",
   "metadata": {},
   "source": [
    "# Exercise 2 (What is your grade?)"
   ]
  },
  {
   "cell_type": "code",
   "execution_count": 2,
   "id": "bc91ab52-8680-434d-a162-e0c9f31b11f5",
   "metadata": {},
   "outputs": [
    {
     "name": "stdin",
     "output_type": "stream",
     "text": [
      "Insert Score 70\n"
     ]
    },
    {
     "name": "stdout",
     "output_type": "stream",
     "text": [
      "A\n"
     ]
    }
   ],
   "source": [
    "score = int(input('Insert Score'))      #IMPORTANT: input command always returns string, must change to int(input) so as to input integers\n",
    "\n",
    "if (70<=score<=100):\n",
    "    print('A')\n",
    "elif (50<=score<=69):\n",
    "    print('B')\n",
    "elif (35<=score<=49):\n",
    "    print('C')\n",
    "elif (0<=score<=34):\n",
    "    print('Fail')\n",
    "else:\n",
    "    print('INVALID')"
   ]
  },
  {
   "cell_type": "markdown",
   "id": "aa6edf79-b16e-4e58-bb79-1bde4b6727ed",
   "metadata": {},
   "source": [
    "# Exercise 3 (Debugging Code)"
   ]
  },
  {
   "cell_type": "code",
   "execution_count": 10,
   "id": "b42575ea-f3c3-4672-9728-bdbe8946a1a1",
   "metadata": {},
   "outputs": [
    {
     "name": "stdout",
     "output_type": "stream",
     "text": [
      "120\n",
      "Invalid input\n"
     ]
    }
   ],
   "source": [
    "def factorial(n):\n",
    "    if n < 0:\n",
    "        return \"Invalid input\"\n",
    "    elif n == 0:\n",
    "        return 1\n",
    "    else:\n",
    "        result = 1\n",
    "        for number in range(1, n+1):\n",
    "            result *= number\n",
    "        return result\n",
    "\n",
    "\n",
    "print(factorial(5))   # Testing, expected output: 120\n",
    "print(factorial(-1))  # Testing, expected output: Invalid input"
   ]
  }
 ],
 "metadata": {
  "kernelspec": {
   "display_name": "Python 3 (ipykernel)",
   "language": "python",
   "name": "python3"
  },
  "language_info": {
   "codemirror_mode": {
    "name": "ipython",
    "version": 3
   },
   "file_extension": ".py",
   "mimetype": "text/x-python",
   "name": "python",
   "nbconvert_exporter": "python",
   "pygments_lexer": "ipython3",
   "version": "3.12.2"
  },
  "toc": {
   "base_numbering": 1,
   "nav_menu": {},
   "number_sections": true,
   "sideBar": true,
   "skip_h1_title": false,
   "title_cell": "Table of Contents",
   "title_sidebar": "Contents",
   "toc_cell": false,
   "toc_position": {},
   "toc_section_display": true,
   "toc_window_display": false
  },
  "vscode": {
   "interpreter": {
    "hash": "31f2aee4e71d21fbe5cf8b01ff0e069b9275f58929596ceb00d14d90e3e16cd6"
   }
  }
 },
 "nbformat": 4,
 "nbformat_minor": 5
}
