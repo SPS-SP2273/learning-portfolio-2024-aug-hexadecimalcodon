{
 "cells": [
  {
   "attachments": {},
   "cell_type": "markdown",
   "id": "123456",
   "metadata": {},
   "source": [
    "<div style=\"text-align:left;font-size:2em\"><span style=\"font-weight:bolder;font-size:1.25em\">SP2273 | Learning Portfolio</span><br><br><span style=\"font-weight:bold;color:darkred\">Fundamentals (Need)</span></div>"
   ]
  },
  {
   "attachments": {},
   "cell_type": "markdown",
   "id": "d7cb819b",
   "metadata": {},
   "source": [
    "# What to expect in this chapter"
   ]
  },
  {
   "attachments": {},
   "cell_type": "markdown",
   "id": "1a4a7d73",
   "metadata": {},
   "source": [
    "# 1 Functions"
   ]
  },
  {
   "cell_type": "code",
   "execution_count": 5,
   "id": "f0875ac7-a317-4bda-9e08-54220db3060a",
   "metadata": {},
   "outputs": [
    {
     "name": "stdout",
     "output_type": "stream",
     "text": [
      "Hello World!\n"
     ]
    }
   ],
   "source": [
    "print ('Hello World!')"
   ]
  },
  {
   "attachments": {},
   "cell_type": "markdown",
   "id": "c71bfeb6",
   "metadata": {},
   "source": [
    "# 2 Python is interpreted"
   ]
  },
  {
   "cell_type": "code",
   "execution_count": 6,
   "id": "cced8afa-3dd3-48de-8c8c-606939c3e427",
   "metadata": {},
   "outputs": [
    {
     "name": "stdout",
     "output_type": "stream",
     "text": [
      "Hello World!\n",
      "Hello World again!\n"
     ]
    }
   ],
   "source": [
    "print('Hello World!')\n",
    "print('Hello World again!')"
   ]
  },
  {
   "attachments": {},
   "cell_type": "markdown",
   "id": "9ac532c0",
   "metadata": {},
   "source": [
    "# 3 Python is sensitive."
   ]
  },
  {
   "cell_type": "code",
   "execution_count": 8,
   "id": "4c7751a5-8477-45c7-9d80-9c8bce0f3a80",
   "metadata": {},
   "outputs": [
    {
     "name": "stdout",
     "output_type": "stream",
     "text": [
      "Hello World!\n",
      "Hello World!\n"
     ]
    }
   ],
   "source": [
    "print('Hello World!')\n",
    "print('Hello World!')"
   ]
  },
  {
   "attachments": {},
   "cell_type": "markdown",
   "id": "8af960c3",
   "metadata": {},
   "source": [
    "# 4 Comments"
   ]
  },
  {
   "cell_type": "code",
   "execution_count": 10,
   "id": "773f62f0-04b8-4a22-a171-ecff511cd6fc",
   "metadata": {},
   "outputs": [
    {
     "name": "stdout",
     "output_type": "stream",
     "text": [
      "hello world!\n"
     ]
    }
   ],
   "source": [
    "print('hello world!')    #use comments to highlight purpose of codes"
   ]
  },
  {
   "attachments": {},
   "cell_type": "markdown",
   "id": "4150a307",
   "metadata": {},
   "source": [
    "# 5 = is not the same as =="
   ]
  },
  {
   "cell_type": "code",
   "execution_count": 11,
   "id": "d3fab625-217e-47c9-88e7-a47f08ef3b55",
   "metadata": {},
   "outputs": [],
   "source": [
    "name = 'Batman'   # Make name carry 'Batman'"
   ]
  },
  {
   "cell_type": "code",
   "execution_count": 13,
   "id": "8609f749-219a-45eb-8b30-7a087df16ea1",
   "metadata": {},
   "outputs": [
    {
     "data": {
      "text/plain": [
       "True"
      ]
     },
     "execution_count": 13,
     "metadata": {},
     "output_type": "execute_result"
    }
   ],
   "source": [
    "name == 'Batman'  # Tell me if name is equal to 'Batman'?\n",
    "                  # Answer:  True or False\n",
    "\n",
    "                  #REMEMBER: '=' means assign value, '==' means ask a question (verify)  \n",
    "                     "
   ]
  },
  {
   "attachments": {},
   "cell_type": "markdown",
   "id": "86c3ba6a",
   "metadata": {},
   "source": [
    "# 6 Use if to make decisions"
   ]
  },
  {
   "cell_type": "code",
   "execution_count": 20,
   "id": "199d8a8a-afad-44ad-a77c-1bc4531f8b90",
   "metadata": {
    "scrolled": true
   },
   "outputs": [
    {
     "name": "stdout",
     "output_type": "stream",
     "text": [
      "Hello Batman!\n"
     ]
    }
   ],
   "source": [
    "name = 'Batman'\n",
    "\n",
    "if name == 'Batman':\n",
    "    print('Hello Batman!')\n",
    "else:\n",
    "    print('Hello World!')"
   ]
  },
  {
   "attachments": {},
   "cell_type": "markdown",
   "id": "6a404381",
   "metadata": {},
   "source": [
    "# 7 Indentations (spaces) are sooo IMPORTANT!"
   ]
  },
  {
   "cell_type": "code",
   "execution_count": 24,
   "id": "9b87491b-6082-4a02-9496-af024f7bfd7e",
   "metadata": {},
   "outputs": [
    {
     "name": "stdout",
     "output_type": "stream",
     "text": [
      "10\n"
     ]
    }
   ],
   "source": [
    "x=10\n",
    "print (x)"
   ]
  },
  {
   "attachments": {},
   "cell_type": "markdown",
   "id": "5cd08db8",
   "metadata": {},
   "source": [
    "# 8 ‘age’ is English, age is a variable."
   ]
  },
  {
   "cell_type": "code",
   "execution_count": 50,
   "id": "76625cb0-e74a-499f-9a78-36da0a0ccc88",
   "metadata": {},
   "outputs": [
    {
     "name": "stdout",
     "output_type": "stream",
     "text": [
      "31\n",
      "you're 20 years old.\n"
     ]
    }
   ],
   "source": [
    "age = 31\n",
    "print(age)\n",
    "\n",
    "print(\"you're 20 years old.\")"
   ]
  },
  {
   "attachments": {},
   "cell_type": "markdown",
   "id": "eb2e9242",
   "metadata": {},
   "source": [
    "# 9 Brackets"
   ]
  },
  {
   "cell_type": "code",
   "execution_count": 38,
   "id": "dc7064eb-d4b4-49e9-bebf-f10aacb44d52",
   "metadata": {},
   "outputs": [
    {
     "ename": "SyntaxError",
     "evalue": "invalid syntax (1807905945.py, line 15)",
     "output_type": "error",
     "traceback": [
      "\u001b[0;36m  Cell \u001b[0;32mIn[38], line 15\u001b[0;36m\u001b[0m\n\u001b[0;31m    'real name': 'bruce wayne'\u001b[0m\n\u001b[0m               ^\u001b[0m\n\u001b[0;31mSyntaxError\u001b[0m\u001b[0;31m:\u001b[0m invalid syntax\n"
     ]
    }
   ],
   "source": [
    "print(\"hello!\")    #functions\n",
    "(1+2)*5            #math\n",
    "\n",
    "py_list = [1, 2, 3, 4, 5]   # A 1D list\n",
    "\n",
    "py_list_2 = [               # A 2D list\n",
    "                [1, \"A\"],      \n",
    "                [2, \"B\"],\n",
    "                [3, \"C\"],\n",
    "                [4, \"D\"],\n",
    "                [5, \"E\"]\n",
    "            ]\n"
   ]
  },
  {
   "cell_type": "code",
   "execution_count": 45,
   "id": "9019d563-0ee2-4c54-abc5-1da949745fbb",
   "metadata": {},
   "outputs": [
    {
     "name": "stdout",
     "output_type": "stream",
     "text": [
      "Bruce Wayne\n"
     ]
    }
   ],
   "source": [
    "personal_info = {\n",
    "    'Names': 'Batman',\n",
    "    'Real Name': 'Bruce Wayne',\n",
    "    'Age': 55,\n",
    "    'Affiliation': 'Justice League',\n",
    "    'Universe': 'DC'\n",
    "}\n",
    "\n",
    "print (personal_info['Real Name'])"
   ]
  },
  {
   "attachments": {},
   "cell_type": "markdown",
   "id": "a0143595",
   "metadata": {},
   "source": [
    "# 10 Giving Python superpowers with Packages"
   ]
  },
  {
   "attachments": {},
   "cell_type": "markdown",
   "id": "2d5ff43f",
   "metadata": {},
   "source": [
    "## 10.1 Some Context"
   ]
  },
  {
   "attachments": {},
   "cell_type": "markdown",
   "id": "7ecc512c",
   "metadata": {},
   "source": [
    "## 10.2 Importing the math package"
   ]
  },
  {
   "cell_type": "code",
   "execution_count": 48,
   "id": "afd9cc08-2a5b-459f-b612-6962f3f17c0e",
   "metadata": {},
   "outputs": [
    {
     "data": {
      "text/plain": [
       "2.0"
      ]
     },
     "execution_count": 48,
     "metadata": {},
     "output_type": "execute_result"
    }
   ],
   "source": [
    "math.sqrt(4)"
   ]
  },
  {
   "attachments": {},
   "cell_type": "markdown",
   "id": "8a45915e",
   "metadata": {},
   "source": [
    "## 10.3 Importing the numpy package"
   ]
  },
  {
   "cell_type": "code",
   "execution_count": 49,
   "id": "7c37f86e-6adb-4281-b728-7bc6f8ba1203",
   "metadata": {},
   "outputs": [],
   "source": [
    "import numpy as np"
   ]
  },
  {
   "cell_type": "markdown",
   "id": "2fa9dc21-548d-4a75-ba20-8f9c83fb2c60",
   "metadata": {},
   "source": [
    "## 10.4 Why so many packages?"
   ]
  },
  {
   "cell_type": "code",
   "execution_count": 53,
   "id": "698b17fd-4815-45b5-9943-44d359986e70",
   "metadata": {},
   "outputs": [
    {
     "data": {
      "text/plain": [
       "array([2., 3., 4.])"
      ]
     },
     "execution_count": 53,
     "metadata": {},
     "output_type": "execute_result"
    }
   ],
   "source": [
    "np.sqrt([4,9,16])"
   ]
  },
  {
   "attachments": {},
   "cell_type": "markdown",
   "id": "dd47ef6d",
   "metadata": {},
   "source": [
    "# 11 The dot (.)"
   ]
  },
  {
   "cell_type": "code",
   "execution_count": 55,
   "id": "fb490ac6-10ce-4d3e-b353-1f1432995015",
   "metadata": {},
   "outputs": [
    {
     "data": {
      "text/plain": [
       "np.float64(2.0)"
      ]
     },
     "execution_count": 55,
     "metadata": {},
     "output_type": "execute_result"
    }
   ],
   "source": [
    "math.sqrt(4)\n",
    "np.sqrt(4)"
   ]
  },
  {
   "cell_type": "code",
   "execution_count": 58,
   "id": "ab9339b0-cb09-404c-a51d-a92d7e500497",
   "metadata": {},
   "outputs": [
    {
     "data": {
      "text/plain": [
       "['san', 'francisco', 'needs', 'a', 'new', 'mayor']"
      ]
     },
     "execution_count": 58,
     "metadata": {},
     "output_type": "execute_result"
    }
   ],
   "source": [
    "'san francisco needs a new mayor'.split()"
   ]
  },
  {
   "attachments": {},
   "cell_type": "markdown",
   "id": "d03e52a7",
   "metadata": {},
   "source": [
    "## Footnotes"
   ]
  }
 ],
 "metadata": {
  "kernelspec": {
   "display_name": "Python 3 (ipykernel)",
   "language": "python",
   "name": "python3"
  },
  "language_info": {
   "codemirror_mode": {
    "name": "ipython",
    "version": 3
   },
   "file_extension": ".py",
   "mimetype": "text/x-python",
   "name": "python",
   "nbconvert_exporter": "python",
   "pygments_lexer": "ipython3",
   "version": "3.12.2"
  },
  "toc": {
   "base_numbering": 1,
   "nav_menu": {},
   "number_sections": true,
   "sideBar": true,
   "skip_h1_title": false,
   "title_cell": "Table of Contents",
   "title_sidebar": "Contents",
   "toc_cell": false,
   "toc_position": {},
   "toc_section_display": true,
   "toc_window_display": false
  },
  "vscode": {
   "interpreter": {
    "hash": "31f2aee4e71d21fbe5cf8b01ff0e069b9275f58929596ceb00d14d90e3e16cd6"
   }
  }
 },
 "nbformat": 4,
 "nbformat_minor": 5
}
