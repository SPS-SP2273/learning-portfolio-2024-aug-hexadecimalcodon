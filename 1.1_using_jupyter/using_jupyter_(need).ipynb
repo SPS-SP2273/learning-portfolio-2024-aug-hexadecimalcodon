{
 "cells": [
  {
   "attachments": {},
   "cell_type": "markdown",
   "id": "123456",
   "metadata": {},
   "source": [
    "<div style=\"text-align:left;font-size:2em\"><span style=\"font-weight:bolder;font-size:1.25em\">SP2273 | Learning Portfolio</span><br><br><span style=\"font-weight:bold;color:darkred\">Using Jupyter (Need)</span></div>"
   ]
  },
  {
   "attachments": {},
   "cell_type": "markdown",
   "id": "4567af81",
   "metadata": {},
   "source": [
    "# What to expect in this chapter"
   ]
  },
  {
   "attachments": {},
   "cell_type": "markdown",
   "id": "299a5299",
   "metadata": {},
   "source": [
    "# 1 Getting ready"
   ]
  },
  {
   "attachments": {},
   "cell_type": "markdown",
   "id": "6fb4ebbe",
   "metadata": {},
   "source": [
    "# 2 Getting started with Jupyter"
   ]
  },
  {
   "attachments": {},
   "cell_type": "markdown",
   "id": "606a070a",
   "metadata": {},
   "source": [
    "## 2.1 It is all about running cells"
   ]
  },
  {
   "attachments": {},
   "cell_type": "markdown",
   "id": "44ee2ca1",
   "metadata": {},
   "source": [
    "## 2.2 A traditional start"
   ]
  },
  {
   "cell_type": "code",
   "execution_count": 4,
   "id": "d5c586d0-6085-4a37-8a87-fbfba0e37494",
   "metadata": {},
   "outputs": [
    {
     "name": "stdout",
     "output_type": "stream",
     "text": [
      "Hello World!\n"
     ]
    }
   ],
   "source": [
    "print('Hello World!')"
   ]
  },
  {
   "attachments": {},
   "cell_type": "markdown",
   "id": "a1fdc653",
   "metadata": {},
   "source": [
    "# 3 All about Markdown"
   ]
  },
  {
   "attachments": {},
   "cell_type": "markdown",
   "id": "345cea84",
   "metadata": {},
   "source": [
    "## 3.1 Rendering Markdown cells"
   ]
  },
  {
   "cell_type": "markdown",
   "id": "5f95cd6b-862d-4c23-b1bb-4639c6a395eb",
   "metadata": {},
   "source": [
    "The ships hung in the sky in much the same way that bricks don’t."
   ]
  },
  {
   "attachments": {},
   "cell_type": "markdown",
   "id": "2910367e",
   "metadata": {},
   "source": [
    "## 3.2 Some basic syntax"
   ]
  },
  {
   "cell_type": "markdown",
   "id": "792d4bb1-4584-4749-804b-f007ae0f564c",
   "metadata": {},
   "source": [
    "The ships *hung in the sky* in much the same way that **bricks don't.**<sup>1</sup><sub>QUOTE</sub>\n"
   ]
  },
  {
   "cell_type": "code",
   "execution_count": null,
   "id": "eeb639fa-65b2-477f-af2c-a610781b183f",
   "metadata": {},
   "outputs": [],
   "source": [
    "# ** ** for bold\n",
    "# * * for italic\n",
    "# *** *** for all bold and italic\n",
    "# <sub> for subscript\n",
    "# <sup> for superscripts"
   ]
  },
  {
   "attachments": {},
   "cell_type": "markdown",
   "id": "601482ee",
   "metadata": {},
   "source": [
    "## 3.3 Headings"
   ]
  },
  {
   "attachments": {},
   "cell_type": "markdown",
   "id": "7f93f32c",
   "metadata": {},
   "source": [
    "## 3.4 Displaying Code"
   ]
  },
  {
   "cell_type": "markdown",
   "id": "0f5dfdca-3075-4cc7-af7e-0b3cc1c68d3d",
   "metadata": {},
   "source": [
    "```python\n",
    "print('Hello World!')\n",
    "```\n",
    "\n",
    "backticks are used in markdown to mention code in-line"
   ]
  },
  {
   "attachments": {},
   "cell_type": "markdown",
   "id": "773d2fe1",
   "metadata": {},
   "source": [
    "## 3.5 Links"
   ]
  },
  {
   "cell_type": "markdown",
   "id": "a6ad4cb0-2224-4fe1-8a06-1789f09fad69",
   "metadata": {},
   "source": [
    "[SP2273 Website] (https://sps.nus.edu.sg/sp2273)\n",
    "\n",
    "enclose the display text in [ ] followed by the link-address in ( ), must mention https://"
   ]
  },
  {
   "attachments": {},
   "cell_type": "markdown",
   "id": "fcceb2d3",
   "metadata": {},
   "source": [
    "## 3.6 Images"
   ]
  },
  {
   "cell_type": "markdown",
   "id": "00afbc64-f3ec-44e0-8ab2-a880bff02417",
   "metadata": {},
   "source": [
    "![NUS Logo](https://nus.edu.sg/images/default-source/base/logo.png)"
   ]
  },
  {
   "attachments": {},
   "cell_type": "markdown",
   "id": "98676460",
   "metadata": {},
   "source": [
    "## 3.7 Tables"
   ]
  },
  {
   "cell_type": "markdown",
   "id": "35f68e08-0a45-44bc-88c6-b265e6e0d247",
   "metadata": {},
   "source": [
    "|A|B|C|\n",
    "|:-|:-:|-:|\n",
    "|a1|b1|c1|\n",
    "|a2|b2|c2|\n",
    "|a3|b3|c3|\n",
    "\n",
    "define the top-most row and separate using |, also use :- or a table generator idk"
   ]
  },
  {
   "attachments": {},
   "cell_type": "markdown",
   "id": "7d9dd3b4",
   "metadata": {},
   "source": [
    "## 3.8 Lists"
   ]
  },
  {
   "cell_type": "markdown",
   "id": "7212eab9-f803-4619-8cd9-feeb028b0a7d",
   "metadata": {},
   "source": [
    "1. Master Yoda\n",
    "2. Luke Skywalker\n",
    "3. Anakin Skywalker"
   ]
  },
  {
   "attachments": {},
   "cell_type": "markdown",
   "id": "249ac85e",
   "metadata": {},
   "source": [
    "## 3.9 Equations"
   ]
  },
  {
   "cell_type": "markdown",
   "id": "a2e7d81a-95f6-4166-8f46-c5aaf24c9f16",
   "metadata": {},
   "source": [
    "$\\sqrt{b^2-4ac}$ #use \\ for $$ in latex"
   ]
  },
  {
   "cell_type": "markdown",
   "id": "e4f40cc8-b630-49e2-99ed-3cb97cdb9547",
   "metadata": {},
   "source": [
    "$$\n",
    "x = \\dfrac{-b \\pm \\sqrt{b^2-4ac}}{2a}\n",
    "$$"
   ]
  },
  {
   "cell_type": "markdown",
   "id": "4c0a245f-88b2-43a0-a91f-7724577bf07e",
   "metadata": {},
   "source": [
    "$\\tau \\leq \\epsilon$"
   ]
  },
  {
   "cell_type": "markdown",
   "id": "e7c2aeb9-097d-4280-a53d-57e6614dd9d6",
   "metadata": {},
   "source": [
    "Fraction\t                $\\dfrac{y}{x}$\t\n",
    "Subscript\t                $x_{a}$\t\n",
    "Power\t                    $x^{(y+z)}$\t\n",
    "Square root                 $\\sqrt{a+b+c}$\t\n",
    "Sum\t                        $\\sum_{n=1}^{n=\\infty} x_n$\t\n",
    "Integral\t                $\\int_{x=1}^{x=\\infty} f(x)dx$\t\n",
    "Not equal\t                $a \\ne b$\t\n",
    "Less than\t                $a \\lt b$\t\n",
    "Less than or equal to\t    $a \\leq b$\t\n",
    "Greater than\t            $a \\gt b$\t\n",
    "Greater than or equal to\t$a \\geq b$\t\n",
    "Greek letters\t            $\\alpha, \\beta, \\gamma, \\pi, \\lambda$"
   ]
  },
  {
   "attachments": {},
   "cell_type": "markdown",
   "id": "995932ff",
   "metadata": {},
   "source": [
    "## Footnotes"
   ]
  },
  {
   "cell_type": "code",
   "execution_count": null,
   "id": "5513d06e-0209-480f-b37a-8b44bb5ae3e1",
   "metadata": {},
   "outputs": [],
   "source": []
  }
 ],
 "metadata": {
  "kernelspec": {
   "display_name": "Python 3 (ipykernel)",
   "language": "python",
   "name": "python3"
  },
  "language_info": {
   "codemirror_mode": {
    "name": "ipython",
    "version": 3
   },
   "file_extension": ".py",
   "mimetype": "text/x-python",
   "name": "python",
   "nbconvert_exporter": "python",
   "pygments_lexer": "ipython3",
   "version": "3.12.2"
  },
  "toc": {
   "base_numbering": 1,
   "nav_menu": {},
   "number_sections": true,
   "sideBar": true,
   "skip_h1_title": false,
   "title_cell": "Table of Contents",
   "title_sidebar": "Contents",
   "toc_cell": false,
   "toc_position": {},
   "toc_section_display": true,
   "toc_window_display": false
  },
  "vscode": {
   "interpreter": {
    "hash": "31f2aee4e71d21fbe5cf8b01ff0e069b9275f58929596ceb00d14d90e3e16cd6"
   }
  }
 },
 "nbformat": 4,
 "nbformat_minor": 5
}
