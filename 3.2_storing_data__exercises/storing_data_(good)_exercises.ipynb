{
 "cells": [
  {
   "attachments": {},
   "cell_type": "markdown",
   "id": "123456",
   "metadata": {},
   "source": [
    "<div style=\"text-align:left;font-size:2em\"><span style=\"font-weight:bolder;font-size:1.25em\">SP2273 | Learning Portfolio</span><br><br><span style=\"font-weight:bold;color:darkred\">Storing Data (Good) Exercises</span></div>"
   ]
  },
  {
   "cell_type": "markdown",
   "id": "ac5e9135-4ec0-47e1-84dd-65a2fdd0e5bd",
   "metadata": {},
   "source": [
    "# Exercise 1 (Total recall) "
   ]
  },
  {
   "cell_type": "code",
   "execution_count": null,
   "id": "ceadce5c-ae2d-4bd1-9acb-1907fc8e2186",
   "metadata": {},
   "outputs": [],
   "source": [
    "Subsetting: # choosing a subset (all elements that fulfill a particular criteria) from a dataset\n",
    "Indexing: choosing one element from a dataset\n",
    "Slicing: choosing a range of elements from a dataset\n",
    "Masking: masking elements which do not fulfill a certain condition (#in this case, true)"
   ]
  },
  {
   "cell_type": "markdown",
   "id": "89082f32-95d3-4970-9071-c6b9594e1df3",
   "metadata": {},
   "source": [
    "# Exercise 2 (Show me the ‘odd’ letters) "
   ]
  },
  {
   "cell_type": "code",
   "execution_count": 1,
   "id": "e452243d-6dce-4622-8ec1-622d69e48e2b",
   "metadata": {},
   "outputs": [],
   "source": [
    "import numpy as np"
   ]
  },
  {
   "cell_type": "code",
   "execution_count": 21,
   "id": "f206c300-0b7b-4349-a91d-cdc4be248892",
   "metadata": {},
   "outputs": [
    {
     "name": "stdout",
     "output_type": "stream",
     "text": [
      "['A' 'C' 'E' 'G' 'I']\n"
     ]
    }
   ],
   "source": [
    "np_array_2d = np.array([[1, \"A\"], [3, \"C\"], [2, \"B\"], [4, \"D\"],\n",
    "                        [5, \"E\"], [7, \"G\"], [6, \"F\"], [8, \"H\"],\n",
    "                        [10, \"J\"], [9, \"I\"]])\n",
    "\n",
    "x = np_array_2d[:,0]\n",
    "int_array_x1 = x.astype(int)\n",
    "\n",
    "y = (int_array_x1)%2\n",
    "my_mask = y>0\n",
    "my_mask\n",
    "\n",
    "print(np_array_2d[my_mask,1]) # you can mask arrays, i.e the subject of masking in np_array[] can be a different array\n",
    "#[array,1] for a 2d array is used to select all the elements in the second postion in each cell in the array"
   ]
  },
  {
   "cell_type": "markdown",
   "id": "1c9cd1c3-a545-46d7-a7bf-5fdcc1bb9330",
   "metadata": {},
   "source": [
    "# Exercise 3"
   ]
  },
  {
   "cell_type": "code",
   "execution_count": 3,
   "id": "83cb4473-1ade-4f50-82b6-0f94770a2149",
   "metadata": {},
   "outputs": [
    {
     "data": {
      "text/plain": [
       "array([[ 1,  0,  1, -1, -1],\n",
       "       [ 1, -1,  1, -1, -1],\n",
       "       [ 1, -1, -1,  1, -1],\n",
       "       [-1,  1,  1, -1, -1],\n",
       "       [ 1, -1,  1, -1,  1]])"
      ]
     },
     "execution_count": 3,
     "metadata": {},
     "output_type": "execute_result"
    }
   ],
   "source": [
    "py_list_2d = [[66, 50, 57, -1, -1],\n",
    " [92, -1, 88, -1, -1],\n",
    " [75, -1, -1, 76, -1],\n",
    " [-1, 51, 87, -1, -1],\n",
    " [71, -1, 67, -1, 69]]\n",
    "\n",
    "np_array = np.array(py_list_2d)\n",
    "np_array[np_array < 50] = -1\n",
    "np_array[np_array > 50] = 1\n",
    "np_array[np_array == 50] = 0\n",
    "np_array\n",
    "\n",
    "# IMPORTANT: masking can be used to modify the target array (but does not always do so), can use </> and = to impose the condition"
   ]
  }
 ],
 "metadata": {
  "kernelspec": {
   "display_name": "Python 3 (ipykernel)",
   "language": "python",
   "name": "python3"
  },
  "language_info": {
   "codemirror_mode": {
    "name": "ipython",
    "version": 3
   },
   "file_extension": ".py",
   "mimetype": "text/x-python",
   "name": "python",
   "nbconvert_exporter": "python",
   "pygments_lexer": "ipython3",
   "version": "3.12.2"
  },
  "toc": {
   "base_numbering": 1,
   "nav_menu": {},
   "number_sections": true,
   "sideBar": true,
   "skip_h1_title": false,
   "title_cell": "Table of Contents",
   "title_sidebar": "Contents",
   "toc_cell": false,
   "toc_position": {},
   "toc_section_display": true,
   "toc_window_display": false
  },
  "vscode": {
   "interpreter": {
    "hash": "31f2aee4e71d21fbe5cf8b01ff0e069b9275f58929596ceb00d14d90e3e16cd6"
   }
  }
 },
 "nbformat": 4,
 "nbformat_minor": 5
}
