{
 "cells": [
  {
   "attachments": {},
   "cell_type": "markdown",
   "id": "123456",
   "metadata": {},
   "source": [
    "<div style=\"text-align:left;font-size:2em\"><span style=\"font-weight:bolder;font-size:1.25em\">SP2273 | Learning Portfolio</span><br><br><span style=\"font-weight:bold;color:darkred\">Storing Data (Need) Exercises</span></div>"
   ]
  },
  {
   "cell_type": "markdown",
   "id": "428f9b36-9abc-4549-b7fe-5d4c756c2d4c",
   "metadata": {},
   "source": [
    "# Exercise 1 (Total Recall)"
   ]
  },
  {
   "cell_type": "code",
   "execution_count": 1,
   "id": "d4b95365-9d15-43f2-bacc-028921e72667",
   "metadata": {},
   "outputs": [
    {
     "ename": "SyntaxError",
     "evalue": "invalid syntax (3343445457.py, line 1)",
     "output_type": "error",
     "traceback": [
      "\u001b[0;36m  Cell \u001b[0;32mIn[1], line 1\u001b[0;36m\u001b[0m\n\u001b[0;31m    - Similarities:\u001b[0m\n\u001b[0m                  ^\u001b[0m\n\u001b[0;31mSyntaxError\u001b[0m\u001b[0;31m:\u001b[0m invalid syntax\n"
     ]
    }
   ],
   "source": [
    "- Similarities:\n",
    "1. Both lists and arrays can be used to store and retrieve information.\n",
    "2. # Both lists and arrays can be indexed.\n",
    "\n",
    "- Differences:\n",
    "1. Lists treat some operations such as +/- as means to manipulate the structure of the list (e.g using + on 2 lists will make a new list containing all the elements of both lists) while arrays treat these operations element-wise. \n",
    "2. # Lists can store multiple types of data while arrays can only store one type of data\n",
    "\n",
    "- Dictionary: #Used to hold values paired with a key. The value can then be accessed using a key."
   ]
  },
  {
   "cell_type": "markdown",
   "id": "9885fd19-d6f2-471a-8a2b-f6c13f54ca63",
   "metadata": {},
   "source": [
    "# Exercise 2 (Indexing)"
   ]
  },
  {
   "cell_type": "code",
   "execution_count": 8,
   "id": "78120e92-50e7-45ff-a6ee-32c9875f909e",
   "metadata": {},
   "outputs": [
    {
     "name": "stdout",
     "output_type": "stream",
     "text": [
      "i9\n",
      "a1\n",
      "c3\n",
      "e5\n",
      "g7\n"
     ]
    }
   ],
   "source": [
    "py_list = [\"a1\", \"b2\", \"c3\", \"d4\", \"e5\", \"f6\", \"g7\", \"h8\", \"i9\", \"j10\"]\n",
    "                    # Prints 'a1'\n",
    "                    # Prints 'c3'\n",
    "                    # Prints 'e5'\n",
    "                    # Prints 'g7'\n",
    "print(py_list[8])   # Prints 'i9'\n",
    "print(py_list[0])\n",
    "print(py_list[2])\n",
    "print(py_list[4])\n",
    "print(py_list[6])"
   ]
  },
  {
   "cell_type": "markdown",
   "id": "168021cb-d91e-473f-b625-9cdc8a5161b9",
   "metadata": {},
   "source": [
    "# Exercise 3 (Index again)"
   ]
  },
  {
   "cell_type": "code",
   "execution_count": 2,
   "id": "ccea2052-2c96-4c60-91ae-4b32946b587c",
   "metadata": {},
   "outputs": [
    {
     "name": "stdout",
     "output_type": "stream",
     "text": [
      "Boron\n",
      "Boron\n"
     ]
    }
   ],
   "source": [
    "elements = ['Hydrogen',\n",
    "            'Helium', 'Lithium',\n",
    "            'Beryllium', 'Boron', 'Carbon',\n",
    "            'Nitrogen', 'Oxygen',\n",
    "            'Fluorine',\n",
    "            'Neon']\n",
    "\n",
    "len(elements)\n",
    "print(elements[4])\n",
    "print(elements[-6]) #means the element at index 4 (boron), but obtained from the back via reverse indexing)"
   ]
  },
  {
   "cell_type": "markdown",
   "id": "b9bfa8a1-f2fc-4777-9cc4-fb3bb1320e66",
   "metadata": {},
   "source": [
    "# Exercise 4 (How many ones) "
   ]
  },
  {
   "cell_type": "code",
   "execution_count": 4,
   "id": "7b8c6b57-2c78-4810-ae88-7121cdfdad04",
   "metadata": {},
   "outputs": [],
   "source": [
    "import numpy as np"
   ]
  },
  {
   "cell_type": "code",
   "execution_count": 6,
   "id": "6f221140-9091-4de4-9e7c-156ca0377ea2",
   "metadata": {},
   "outputs": [
    {
     "data": {
      "text/plain": [
       "np.int64(9)"
      ]
     },
     "execution_count": 6,
     "metadata": {},
     "output_type": "execute_result"
    }
   ],
   "source": [
    "py_numbers =[45, 60, 1, 30, 96, 1, 96, 57, 16, 1,\n",
    "        99, 62, 86, 43, 42, 60, 59, 1, 1, 35,\n",
    "        83, 47, 34, 28, 68, 23, 22, 92, 1, 79,\n",
    "        1, 29, 94, 72, 46, 47, 1, 74, 32, 20,\n",
    "        8, 37, 35, 1, 89, 29, 86, 19, 43, 61]      \n",
    "\n",
    "np_numbers = np.array(py_numbers)\n",
    "\n",
    "sum(np_numbers == 1)"
   ]
  },
  {
   "cell_type": "markdown",
   "id": "7b96c7d1-1dd9-4c58-8c1d-3d784cd65911",
   "metadata": {},
   "source": [
    "# Exercise 5 (A Matter of Statistics)"
   ]
  },
  {
   "cell_type": "code",
   "execution_count": 85,
   "id": "bff60700-792a-4e31-b0d7-8e4ad9ccf0ed",
   "metadata": {},
   "outputs": [
    {
     "name": "stdout",
     "output_type": "stream",
     "text": [
      "38.5\n",
      "302.5\n"
     ]
    }
   ],
   "source": [
    "x_1 = [1, 4, 9, 16, 25, 36, 49, 64, 81, 100]\n",
    "x_2 = [1, 8, 27, 64, 125, 216, 343, 512, 729, 1000]\n",
    "\n",
    "np_x1 = np.array(x_1)\n",
    "np_x2 = np.array(x_2)\n",
    "\n",
    "print(np_x1.mean())\n",
    "print(np_x2.mean())"
   ]
  },
  {
   "cell_type": "code",
   "execution_count": 39,
   "id": "5e1bc559-2065-4369-87af-c7cb825fbc53",
   "metadata": {},
   "outputs": [
    {
     "name": "stdout",
     "output_type": "stream",
     "text": [
      "32.41990129534635\n",
      "326.0893282522444\n"
     ]
    }
   ],
   "source": [
    "print(np_x1.std())\n",
    "print(np_x2.std())"
   ]
  },
  {
   "cell_type": "code",
   "execution_count": 136,
   "id": "5917dee1-fd52-4934-a39b-189584a0052f",
   "metadata": {},
   "outputs": [
    {
     "name": "stdout",
     "output_type": "stream",
     "text": [
      "0.9871796626270701\n"
     ]
    }
   ],
   "source": [
    "a = (np_x1)-38.5\n",
    "b = (np_x2)-302.5\n",
    "\n",
    "c = a*b\n",
    "d = np.sum(c)\n",
    "\n",
    "e = a**2\n",
    "f = b**2\n",
    "\n",
    "g = np.sum(e)\n",
    "h = np.sum(f)\n",
    "\n",
    "i = np.sqrt(g*h)\n",
    "\n",
    "r = d/i\n",
    "print(r)"
   ]
  },
  {
   "cell_type": "code",
   "execution_count": 135,
   "id": "1f7ecc1a-c5de-47d0-8945-4eea5a863f9c",
   "metadata": {},
   "outputs": [
    {
     "name": "stdout",
     "output_type": "stream",
     "text": [
      "[[1.         0.98717966]\n",
      " [0.98717966 1.        ]]\n"
     ]
    }
   ],
   "source": [
    "print(np.corrcoef(np_x1, np_x2))\n"
   ]
  }
 ],
 "metadata": {
  "kernelspec": {
   "display_name": "Python 3 (ipykernel)",
   "language": "python",
   "name": "python3"
  },
  "language_info": {
   "codemirror_mode": {
    "name": "ipython",
    "version": 3
   },
   "file_extension": ".py",
   "mimetype": "text/x-python",
   "name": "python",
   "nbconvert_exporter": "python",
   "pygments_lexer": "ipython3",
   "version": "3.12.2"
  },
  "toc": {
   "base_numbering": 1,
   "nav_menu": {},
   "number_sections": true,
   "sideBar": true,
   "skip_h1_title": false,
   "title_cell": "Table of Contents",
   "title_sidebar": "Contents",
   "toc_cell": false,
   "toc_position": {},
   "toc_section_display": true,
   "toc_window_display": false
  },
  "vscode": {
   "interpreter": {
    "hash": "31f2aee4e71d21fbe5cf8b01ff0e069b9275f58929596ceb00d14d90e3e16cd6"
   }
  }
 },
 "nbformat": 4,
 "nbformat_minor": 5
}
