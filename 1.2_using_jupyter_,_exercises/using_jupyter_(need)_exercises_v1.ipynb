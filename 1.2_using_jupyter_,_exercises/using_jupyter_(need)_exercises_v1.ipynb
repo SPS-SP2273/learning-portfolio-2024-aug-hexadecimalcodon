{
 "cells": [
  {
   "attachments": {},
   "cell_type": "markdown",
   "id": "123456",
   "metadata": {},
   "source": [
    "<div style=\"text-align:left;font-size:2em\"><span style=\"font-weight:bolder;font-size:1.25em\">SP2273 | Learning Portfolio</span><br><br><span style=\"font-weight:bold;color:darkred\">Using Jupyter (Need), Exercises</span></div>"
   ]
  },
  {
   "attachments": {},
   "cell_type": "markdown",
   "id": "dd7f8b46",
   "metadata": {},
   "source": [
    "## 1 Quadratic Equations"
   ]
  },
  {
   "attachments": {},
   "cell_type": "markdown",
   "id": "a5a42385",
   "metadata": {},
   "source": [
    "### Introduction"
   ]
  },
  {
   "cell_type": "markdown",
   "id": "252f7316-41a4-4267-8932-bcc75cfd71a5",
   "metadata": {},
   "source": [
    "\n",
    "(Image from the Wikipedia page on Quadratic equations)\n",
    "\n",
    "![Quadratic Graph](https://upload.wikimedia.org/wikipedia/commons/thumb/f/f8/Polynomialdeg2.svg/600px-Polynomialdeg2.svg.png)\n",
    "\n",
    "The general form of a quadratic equation is:\n",
    "\n",
    "$ax^2 + bx + c$\n"
   ]
  },
  {
   "attachments": {},
   "cell_type": "markdown",
   "id": "212c584f",
   "metadata": {},
   "source": [
    "### Solutions"
   ]
  },
  {
   "cell_type": "markdown",
   "id": "f17ed028-dc37-4f2d-b43e-3f2bb13b76f7",
   "metadata": {},
   "source": [
    "Provided $a \\ne 0$, we can use an elementary algebraic method called [completing the square](https://en.wikipedia.org/wiki/Completing_the_square) to show that a quadratic equation has the following solution:\n",
    "\n",
    "$$\n",
    "x = \\dfrac {-b \\pm \\sqrt {b^2-4ac}}{2a}\n",
    "$$\n",
    "\n"
   ]
  },
  {
   "attachments": {},
   "cell_type": "markdown",
   "id": "73ed2631",
   "metadata": {},
   "source": [
    "### Discriminant"
   ]
  },
  {
   "cell_type": "markdown",
   "id": "f333d75b-9df4-419e-a722-2f31884d309c",
   "metadata": {},
   "source": [
    "\n",
    "The quantity ∆ = $b^2-4ac$ is called the discriminant of the equation and decides the nature of its solutions. The table below shows the various possibilities.\n",
    "\n",
    "|Discriminant|Roots|\n",
    "|:-|-:|\n",
    "|∆ = $b^2-4ac = 0$|A single solution of -b/(2a)|\n",
    "|∆ = $b^2-4ac > 0$|Two distinct solutions|\n",
    "|∆ = $b^2-4ac < 0$|No real solutions; both are complex.|\n"
   ]
  },
  {
   "cell_type": "markdown",
   "id": "708a8183-0b16-4cde-98e0-598aa7a913a3",
   "metadata": {},
   "source": [
    "## 2 (In Your Own Words)"
   ]
  },
  {
   "cell_type": "markdown",
   "id": "030e23a4-cd50-4754-baf8-ca8084fca4de",
   "metadata": {},
   "source": [
    "1. A Git repository is a library for all the versions of the code, where it is stored and can be reviewed.\n",
    "2. Versions\n",
    "3. A commit keeps track of your repository and saves any changes that happened to files in it.\n",
    "4. Pushes are used to submit code that has been committed to the repository for review.\n",
    "5. Pulls are used to retrieve code from the Git repository that have already been pushed.\n",
    "6. Github Desktop is used to detect changes to local files, while Github contains the online repository that stores all files containing code."
   ]
  },
  {
   "cell_type": "markdown",
   "id": "3f0b5a1e-d636-42fe-a1f0-371db4b71f73",
   "metadata": {},
   "source": [
    "## 3 A Matter Of Statistics\n",
    "\n",
    "$\\mu$ = $\\frac{1}{n}$ $\\sum_{i=1}^{n}$ $x_{i}$\n",
    "\n",
    "$\\sigma$ = $\\sqrt{ \\left(\\frac{1}{n} \\right) \\sum_{i=1}^{n} (x_{i}-\\mu)^2 }$\n",
    "\n",
    "$$\n",
    "r= \\dfrac {\\sum_{i=1}^{n}(x_{i}-\\mu_{X})(y_{i}-\\mu_{Y})}{\\sqrt {\\left (\\sum_{i=1}^{n} \\right)(x_{i}-\\mu_{X})^2)(\\sum_{i=1}^{n})((y_{i}-\\mu_{Y})^2}}\n",
    "$$\n",
    "\n",
    "\n"
   ]
  }
 ],
 "metadata": {
  "kernelspec": {
   "display_name": "Python 3 (ipykernel)",
   "language": "python",
   "name": "python3"
  },
  "language_info": {
   "codemirror_mode": {
    "name": "ipython",
    "version": 3
   },
   "file_extension": ".py",
   "mimetype": "text/x-python",
   "name": "python",
   "nbconvert_exporter": "python",
   "pygments_lexer": "ipython3",
   "version": "3.12.2"
  },
  "toc": {
   "base_numbering": 1,
   "nav_menu": {},
   "number_sections": true,
   "sideBar": true,
   "skip_h1_title": false,
   "title_cell": "Table of Contents",
   "title_sidebar": "Contents",
   "toc_cell": false,
   "toc_position": {},
   "toc_section_display": true,
   "toc_window_display": false
  },
  "vscode": {
   "interpreter": {
    "hash": "31f2aee4e71d21fbe5cf8b01ff0e069b9275f58929596ceb00d14d90e3e16cd6"
   }
  }
 },
 "nbformat": 4,
 "nbformat_minor": 5
}
