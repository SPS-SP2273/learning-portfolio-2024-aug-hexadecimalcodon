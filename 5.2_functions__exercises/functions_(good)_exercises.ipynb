{
 "cells": [
  {
   "attachments": {},
   "cell_type": "markdown",
   "id": "123456",
   "metadata": {},
   "source": [
    "<div style=\"text-align:left;font-size:2em\"><span style=\"font-weight:bolder;font-size:1.25em\">SP2273 | Learning Portfolio</span><br><br><span style=\"font-weight:bold;color:darkred\">Functions (Good) Exercises</span></div>"
   ]
  },
  {
   "cell_type": "markdown",
   "id": "84aa1bb6-d84d-46d6-aa83-12f7de67e07b",
   "metadata": {},
   "source": [
    "# Exercise 1 (Celsius to Fahrenheit or Kelvin)"
   ]
  },
  {
   "cell_type": "code",
   "execution_count": 2,
   "id": "22de1775-707e-457c-8cf3-860c68303a96",
   "metadata": {},
   "outputs": [],
   "source": [
    "import numpy as np"
   ]
  },
  {
   "cell_type": "code",
   "execution_count": 1,
   "id": "4ea8c036-90cb-4592-8559-e4bb0bb825fd",
   "metadata": {},
   "outputs": [],
   "source": [
    "def convert_celsius(temperature_celsius, target_scale = \"Fahrenheit\"):\n",
    "    if target_scale == 'Fahrenheit':\n",
    "        return(temperature_celsius*9/5 + 32)\n",
    "    if target_scale == 'Kelvin':\n",
    "        return(temperature_celsius + 273.15)"
   ]
  },
  {
   "cell_type": "code",
   "execution_count": 15,
   "id": "17b22493-e767-4cc8-b238-0c01c3c5f0de",
   "metadata": {},
   "outputs": [
    {
     "data": {
      "text/plain": [
       "59.0"
      ]
     },
     "execution_count": 15,
     "metadata": {},
     "output_type": "execute_result"
    }
   ],
   "source": [
    "convert_celsius(15, 'Fahrenheit')"
   ]
  },
  {
   "cell_type": "code",
   "execution_count": 16,
   "id": "a7052b96-ab26-4519-84df-a39f8bf16715",
   "metadata": {},
   "outputs": [
    {
     "data": {
      "text/plain": [
       "278.15"
      ]
     },
     "execution_count": 16,
     "metadata": {},
     "output_type": "execute_result"
    }
   ],
   "source": [
    "convert_celsius(5, 'Kelvin')"
   ]
  },
  {
   "cell_type": "code",
   "execution_count": 17,
   "id": "eb9781b0-84f6-4b2b-b4de-fc8ac5dd7d28",
   "metadata": {},
   "outputs": [
    {
     "data": {
      "text/plain": [
       "41.0"
      ]
     },
     "execution_count": 17,
     "metadata": {},
     "output_type": "execute_result"
    }
   ],
   "source": [
    "convert_celsius(5)"
   ]
  },
  {
   "cell_type": "markdown",
   "id": "6a26d6f1-b166-4290-ae1e-a18a1d0fd559",
   "metadata": {},
   "source": [
    "# Exercise 2 (Fahrenheit to Celsius or Kelvin)"
   ]
  },
  {
   "cell_type": "code",
   "execution_count": 20,
   "id": "4085c6ff-6f60-46aa-a903-0cf105a8c293",
   "metadata": {},
   "outputs": [],
   "source": [
    "def convert_fahrenheit(temperature_fahrenheit, target_scale = 'Kelvin'):\n",
    "    if  target_scale == 'Celsius':\n",
    "        return ((temperature_fahrenheit-32) * 5/9)\n",
    "    if target_scale == 'Kelvin':\n",
    "        return ((temperature_fahrenheit-32) * 5/9 + 273.15)"
   ]
  },
  {
   "cell_type": "code",
   "execution_count": 21,
   "id": "b051ad33-db81-4579-874d-ae41609d3e0a",
   "metadata": {},
   "outputs": [
    {
     "data": {
      "text/plain": [
       "32.22222222222222"
      ]
     },
     "execution_count": 21,
     "metadata": {},
     "output_type": "execute_result"
    }
   ],
   "source": [
    "convert_fahrenheit(90, 'Celsius')"
   ]
  },
  {
   "cell_type": "code",
   "execution_count": 19,
   "id": "af467940-73ca-42b4-a7c5-0074c90b6521",
   "metadata": {},
   "outputs": [
    {
     "data": {
      "text/plain": [
       "305.3722222222222"
      ]
     },
     "execution_count": 19,
     "metadata": {},
     "output_type": "execute_result"
    }
   ],
   "source": [
    "convert_fahrenheit(90, 'Kelvin')"
   ]
  },
  {
   "cell_type": "markdown",
   "id": "4eb284ee-fc44-49c3-ac7b-d6b78663d326",
   "metadata": {},
   "source": [
    "# Exercise 3 (General Temperature Conversion)"
   ]
  },
  {
   "cell_type": "code",
   "execution_count": 24,
   "id": "d33fa556-86d4-4439-b2e1-0b41a0b55ac3",
   "metadata": {},
   "outputs": [],
   "source": [
    "def convert_temperature(temperature, source_scale, target_scale):\n",
    "    if source_scale == 'Celsius':\n",
    "        new_temp = convert_celsius(temperature, target_scale)\n",
    "        return new_temp\n",
    "        \n",
    "    if source_scale == 'Fahrenheit':\n",
    "        new_temp = convert_fahrenheit(temperature, target_scale)\n",
    "        return new_temp\n",
    "        \n",
    "    if source_scale == 'Kelvin':\n",
    "        if target_scale == 'Celsius':\n",
    "            return(temparature-273.15)\n",
    "        elif target_scale == 'Fahrenheit':\n",
    "            return ((temperature-273.15) * 9/5 + 32)"
   ]
  },
  {
   "cell_type": "code",
   "execution_count": 25,
   "id": "4874ba92-bb2f-48f4-813c-d88871a125e8",
   "metadata": {},
   "outputs": [
    {
     "data": {
      "text/plain": [
       "307.15"
      ]
     },
     "execution_count": 25,
     "metadata": {},
     "output_type": "execute_result"
    }
   ],
   "source": [
    "convert_temperature(34, 'Celsius', 'Kelvin')"
   ]
  },
  {
   "cell_type": "code",
   "execution_count": 26,
   "id": "d6235b2d-e5fc-4301-a84f-8ee638c10742",
   "metadata": {},
   "outputs": [
    {
     "data": {
      "text/plain": [
       "1.1111111111111112"
      ]
     },
     "execution_count": 26,
     "metadata": {},
     "output_type": "execute_result"
    }
   ],
   "source": [
    "convert_temperature(34, 'Fahrenheit', 'Celsius')"
   ]
  },
  {
   "cell_type": "code",
   "execution_count": 27,
   "id": "2e34a8ca-cbbd-4259-b6e7-6edb56f2343c",
   "metadata": {},
   "outputs": [
    {
     "data": {
      "text/plain": [
       "213.53000000000003"
      ]
     },
     "execution_count": 27,
     "metadata": {},
     "output_type": "execute_result"
    }
   ],
   "source": [
    "convert_temperature(374, 'Kelvin', 'Fahrenheit')"
   ]
  }
 ],
 "metadata": {
  "kernelspec": {
   "display_name": "Python 3 (ipykernel)",
   "language": "python",
   "name": "python3"
  },
  "language_info": {
   "codemirror_mode": {
    "name": "ipython",
    "version": 3
   },
   "file_extension": ".py",
   "mimetype": "text/x-python",
   "name": "python",
   "nbconvert_exporter": "python",
   "pygments_lexer": "ipython3",
   "version": "3.12.2"
  },
  "toc": {
   "base_numbering": 1,
   "nav_menu": {},
   "number_sections": true,
   "sideBar": true,
   "skip_h1_title": false,
   "title_cell": "Table of Contents",
   "title_sidebar": "Contents",
   "toc_cell": false,
   "toc_position": {},
   "toc_section_display": true,
   "toc_window_display": false
  },
  "vscode": {
   "interpreter": {
    "hash": "31f2aee4e71d21fbe5cf8b01ff0e069b9275f58929596ceb00d14d90e3e16cd6"
   }
  }
 },
 "nbformat": 4,
 "nbformat_minor": 5
}
