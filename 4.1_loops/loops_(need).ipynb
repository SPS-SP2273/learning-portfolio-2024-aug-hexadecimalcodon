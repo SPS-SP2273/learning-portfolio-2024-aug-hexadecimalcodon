{
 "cells": [
  {
   "attachments": {},
   "cell_type": "markdown",
   "id": "123456",
   "metadata": {},
   "source": [
    "<div style=\"text-align:left;font-size:2em\"><span style=\"font-weight:bolder;font-size:1.25em\">SP2273 | Learning Portfolio</span><br><br><span style=\"font-weight:bold;color:darkred\">Loops (Need)</span></div>"
   ]
  },
  {
   "attachments": {},
   "cell_type": "markdown",
   "id": "dc4f5e8a",
   "metadata": {},
   "source": [
    "# What to expect in this chapter"
   ]
  },
  {
   "attachments": {},
   "cell_type": "markdown",
   "id": "9f7098b0",
   "metadata": {},
   "source": [
    "# 1 The for iterator"
   ]
  },
  {
   "cell_type": "code",
   "execution_count": 3,
   "id": "d7ee7fa6-5846-4b0a-8756-ea548e11be5e",
   "metadata": {},
   "outputs": [],
   "source": [
    "real_names = ['Natasha Romanoff', 'Tony Stark', 'Stephen Strange']"
   ]
  },
  {
   "cell_type": "code",
   "execution_count": 5,
   "id": "2a793f33-8ae6-4a60-8859-c94fdf69ae9a",
   "metadata": {},
   "outputs": [
    {
     "name": "stdout",
     "output_type": "stream",
     "text": [
      "Natasha Romanoff is a Marvel superhero!\n",
      "Tony Stark is a Marvel superhero!\n",
      "Stephen Strange is a Marvel superhero!\n"
     ]
    }
   ],
   "source": [
    "name = real_names[0]\n",
    "print(f'{name} is a Marvel superhero!')\n",
    "\n",
    "name = real_names[1]\n",
    "print(f'{name} is a Marvel superhero!')\n",
    "\n",
    "name = real_names[2]\n",
    "print(f'{name} is a Marvel superhero!')"
   ]
  },
  {
   "attachments": {},
   "cell_type": "markdown",
   "id": "73ab176f",
   "metadata": {},
   "source": [
    "## 1.1 for with a list"
   ]
  },
  {
   "cell_type": "code",
   "execution_count": 6,
   "id": "10cf12ee-a358-4794-9e15-f5eb18f43347",
   "metadata": {},
   "outputs": [
    {
     "name": "stdout",
     "output_type": "stream",
     "text": [
      "Natasha Romanoff is a Marvel superhero!\n",
      "Tony Stark is a Marvel superhero!\n",
      "Stephen Strange is a Marvel superhero!\n"
     ]
    }
   ],
   "source": [
    "for name in real_names:\n",
    "    print(f'{name} is a Marvel superhero!')\n",
    "\n",
    "# general format is: for 'single element' in 'list':\n",
    "#in this case, name is assigned a value of each element of the list\n",
    "#code is ran using this value of name"
   ]
  },
  {
   "attachments": {},
   "cell_type": "markdown",
   "id": "a658d961",
   "metadata": {},
   "source": [
    "## 1.2 for with enumerate"
   ]
  },
  {
   "cell_type": "code",
   "execution_count": 2,
   "id": "2c13b38f-dbf5-4d0f-aa47-fe2c40bc0f42",
   "metadata": {},
   "outputs": [],
   "source": [
    "super_names = [\"Black Widow\", \"Iron Man\", \"Doctor Strange\"]\n",
    "real_names = [\"Natasha Romanoff\", \"Tony Stark\", \"Stephen Strange\"]"
   ]
  },
  {
   "cell_type": "code",
   "execution_count": 9,
   "id": "d784c2cc-e4b3-417d-9c6c-cdb96ea00c18",
   "metadata": {},
   "outputs": [
    {
     "name": "stdout",
     "output_type": "stream",
     "text": [
      "0: Natasha Romanoff is a Marvel superhero!\n",
      "1: Tony Stark is a Marvel superhero!\n",
      "2: Stephen Strange is a Marvel superhero!\n"
     ]
    }
   ],
   "source": [
    "for count, name in enumerate(real_names):\n",
    "    print(f'{count}: {name} is a Marvel superhero!')\n",
    "\n",
    "\n",
    "#enumerate keeps count\n",
    "#general format: for count, {variable} in enumerate(list_1):\n",
    "                 #print(f'{count}:{list_1}')"
   ]
  },
  {
   "cell_type": "code",
   "execution_count": 27,
   "id": "153b8836-8666-4d1b-9a85-7e5476a72436",
   "metadata": {},
   "outputs": [
    {
     "name": "stdout",
     "output_type": "stream",
     "text": [
      "Natasha Romanoff is Black Widow!\n",
      "Tony Stark is Iron Man!\n",
      "Stephen Strange is Doctor Strange!\n"
     ]
    }
   ],
   "source": [
    "for index, name in enumerate(real_names):\n",
    "    superhero_name = super_names[index]   # adds list to index\n",
    "    print(f'{name} is {superhero_name}!')\n",
    "\n",
    "\n",
    "#enumerate can also be used to loop over mutiple lists as for loop normally accesses just one list\n",
    "#general format: for index, {variable} in enumerate(list_1):\n",
    "#                new_variable = list_2[index]\n",
    "#                "
   ]
  },
  {
   "cell_type": "code",
   "execution_count": 24,
   "id": "c3f39cc7-1072-471b-9fa6-7fcd23772cfd",
   "metadata": {},
   "outputs": [
    {
     "name": "stdout",
     "output_type": "stream",
     "text": [
      "100: Natasha Romanoff is a Marvel superhero!\n",
      "101: Tony Stark is a Marvel superhero!\n",
      "102: Stephen Strange is a Marvel superhero!\n"
     ]
    }
   ],
   "source": [
    "for count, name in enumerate(real_names, 100):\n",
    "    print(f'{count}: {name} is a Marvel superhero!')"
   ]
  },
  {
   "attachments": {},
   "cell_type": "markdown",
   "id": "2ca24d08",
   "metadata": {},
   "source": [
    "## 1.3 for with range"
   ]
  },
  {
   "cell_type": "code",
   "execution_count": 29,
   "id": "e6957241-1b08-4c32-876d-3c048d73ca0f",
   "metadata": {},
   "outputs": [
    {
     "name": "stdout",
     "output_type": "stream",
     "text": [
      "0\n",
      "1\n",
      "2\n",
      "3\n",
      "4\n"
     ]
    }
   ],
   "source": [
    "for i in range(5):\n",
    "    print(i)\n",
    "\n",
    "#prints from 0 --> 5-1, prints 5 elements in total (always excludes n in range(n))\n",
    "#range() always ends one short of ending number"
   ]
  },
  {
   "cell_type": "code",
   "execution_count": 30,
   "id": "575b972e-248a-4967-98a7-fb45d7539b50",
   "metadata": {},
   "outputs": [
    {
     "name": "stdout",
     "output_type": "stream",
     "text": [
      "5\n",
      "6\n",
      "7\n",
      "8\n",
      "9\n"
     ]
    }
   ],
   "source": [
    "for i in range(5, 10):\n",
    "    print(i)\n",
    "\n",
    "#prints from 5 --> 10-1, prints 10-5+1 elements in total"
   ]
  },
  {
   "cell_type": "code",
   "execution_count": 36,
   "id": "bf3439fe-627d-4a4b-bd89-b2b172fb80c6",
   "metadata": {},
   "outputs": [
    {
     "name": "stdout",
     "output_type": "stream",
     "text": [
      "1\n",
      "4\n",
      "7\n"
     ]
    }
   ],
   "source": [
    "for i in range(1, 10, 3):\n",
    "    print(i)\n",
    "\n",
    "#steps of 3, excluding 10"
   ]
  },
  {
   "cell_type": "code",
   "execution_count": 4,
   "id": "849541e0-1217-4876-8f04-fa793b0feebb",
   "metadata": {},
   "outputs": [
    {
     "name": "stdout",
     "output_type": "stream",
     "text": [
      "Natasha Romanoff is Marvel's Doctor Strange!\n",
      "Tony Stark is Marvel's Black Widow!\n",
      "Stephen Strange is Marvel's Iron Man!\n"
     ]
    }
   ],
   "source": [
    "for i in range(len(real_names)): #len() used to define how many times loop should run\n",
    "    real_name = real_names[i]    #i is used to set range parameters\n",
    "    super_name = super_names[i-1]        \n",
    "    print(f\"{real_name} is Marvel's {super_name}!\")"
   ]
  },
  {
   "attachments": {},
   "cell_type": "markdown",
   "id": "42f31be8",
   "metadata": {},
   "source": [
    "# 2 while"
   ]
  },
  {
   "cell_type": "code",
   "execution_count": 13,
   "id": "3c05d001-fe85-40f9-aaf0-a44e1f2ff77b",
   "metadata": {},
   "outputs": [
    {
     "name": "stdout",
     "output_type": "stream",
     "text": [
      "0\n",
      "1\n",
      "2\n",
      "3\n",
      "4\n"
     ]
    }
   ],
   "source": [
    "number = 0\n",
    "while number < 5: \n",
    "    print(number)\n",
    "    number = number + 1\n"
   ]
  }
 ],
 "metadata": {
  "kernelspec": {
   "display_name": "Python 3 (ipykernel)",
   "language": "python",
   "name": "python3"
  },
  "language_info": {
   "codemirror_mode": {
    "name": "ipython",
    "version": 3
   },
   "file_extension": ".py",
   "mimetype": "text/x-python",
   "name": "python",
   "nbconvert_exporter": "python",
   "pygments_lexer": "ipython3",
   "version": "3.12.2"
  },
  "toc": {
   "base_numbering": 1,
   "nav_menu": {},
   "number_sections": true,
   "sideBar": true,
   "skip_h1_title": false,
   "title_cell": "Table of Contents",
   "title_sidebar": "Contents",
   "toc_cell": false,
   "toc_position": {},
   "toc_section_display": true,
   "toc_window_display": false
  },
  "vscode": {
   "interpreter": {
    "hash": "31f2aee4e71d21fbe5cf8b01ff0e069b9275f58929596ceb00d14d90e3e16cd6"
   }
  }
 },
 "nbformat": 4,
 "nbformat_minor": 5
}
