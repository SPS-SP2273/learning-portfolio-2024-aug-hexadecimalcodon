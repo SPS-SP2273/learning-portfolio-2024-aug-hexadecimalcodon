{
 "cells": [
  {
   "attachments": {},
   "cell_type": "markdown",
   "id": "123456",
   "metadata": {},
   "source": [
    "<div style=\"text-align:left;font-size:2em\"><span style=\"font-weight:bolder;font-size:1.25em\">SP2273 | Learning Portfolio</span><br><br><span style=\"font-weight:bold;color:darkred\">Fundamentals (Good)</span></div>"
   ]
  },
  {
   "attachments": {},
   "cell_type": "markdown",
   "id": "41370c65",
   "metadata": {},
   "source": [
    "# What to expect in this chapter"
   ]
  },
  {
   "attachments": {},
   "cell_type": "markdown",
   "id": "06a02a34",
   "metadata": {},
   "source": [
    "# 1 There is more to if"
   ]
  },
  {
   "cell_type": "code",
   "execution_count": 4,
   "id": "391ca97d-226b-413a-84f4-941da8ce1cfe",
   "metadata": {},
   "outputs": [
    {
     "name": "stdout",
     "output_type": "stream",
     "text": [
      "Hello Batman!\n"
     ]
    }
   ],
   "source": [
    "name = 'Batman'\n",
    "\n",
    "if name == 'Batman':\n",
    "    print ('Hello Batman!')\n",
    "elif name == 'Robin':\n",
    "    print ('Hello Sidekick!')\n",
    "else:\n",
    "    print('Hello World!')"
   ]
  },
  {
   "attachments": {},
   "cell_type": "markdown",
   "id": "ae709031",
   "metadata": {},
   "source": [
    "# 2 Asking questions"
   ]
  },
  {
   "cell_type": "code",
   "execution_count": 57,
   "id": "7fbf1952-54a4-4bed-a0d7-a8df95641ac3",
   "metadata": {},
   "outputs": [],
   "source": [
    "fruits = ['apple', 'banana', 'pineapple', 'jackfruit']\n",
    "vegetables = ['celery', 'potato', 'broccoli', 'kale']"
   ]
  },
  {
   "cell_type": "code",
   "execution_count": 58,
   "id": "21631ffe-7378-48de-86a3-b4e9e05df5ff",
   "metadata": {},
   "outputs": [
    {
     "data": {
      "text/plain": [
       "True"
      ]
     },
     "execution_count": 58,
     "metadata": {},
     "output_type": "execute_result"
    }
   ],
   "source": [
    "'apple' in fruits"
   ]
  },
  {
   "cell_type": "code",
   "execution_count": 52,
   "id": "cfa4f0e3-eb45-4757-bce8-192dbcfb8a9d",
   "metadata": {},
   "outputs": [
    {
     "data": {
      "text/plain": [
       "False"
      ]
     },
     "execution_count": 52,
     "metadata": {},
     "output_type": "execute_result"
    }
   ],
   "source": [
    "'peach' in fruits"
   ]
  },
  {
   "cell_type": "code",
   "execution_count": 53,
   "id": "45d2df01-cf68-485d-bc97-34d39d8ed222",
   "metadata": {},
   "outputs": [
    {
     "data": {
      "text/plain": [
       "True"
      ]
     },
     "execution_count": 53,
     "metadata": {},
     "output_type": "execute_result"
    }
   ],
   "source": [
    "'peach' not in fruits"
   ]
  },
  {
   "cell_type": "code",
   "execution_count": 54,
   "id": "ef23ce26-e08c-45f7-8c49-869e952a4193",
   "metadata": {},
   "outputs": [
    {
     "data": {
      "text/plain": [
       "True"
      ]
     },
     "execution_count": 54,
     "metadata": {},
     "output_type": "execute_result"
    }
   ],
   "source": [
    "'apple' in fruits and 'celery' in vegetables"
   ]
  },
  {
   "cell_type": "code",
   "execution_count": 55,
   "id": "c09956b3-5a7a-4b52-b56c-1d4d261ad40f",
   "metadata": {},
   "outputs": [
    {
     "data": {
      "text/plain": [
       "True"
      ]
     },
     "execution_count": 55,
     "metadata": {},
     "output_type": "execute_result"
    }
   ],
   "source": [
    "'app' in 'apple'"
   ]
  },
  {
   "cell_type": "code",
   "execution_count": 56,
   "id": "50dd3753-bf9e-4d15-8b39-c9ea5b9cbaa7",
   "metadata": {},
   "outputs": [
    {
     "data": {
      "text/plain": [
       "False"
      ]
     },
     "execution_count": 56,
     "metadata": {},
     "output_type": "execute_result"
    }
   ],
   "source": [
    "'apples'>'oranges'"
   ]
  },
  {
   "cell_type": "code",
   "execution_count": null,
   "id": "bfc7642b-15b1-4a61-babb-4cb33c803953",
   "metadata": {},
   "outputs": [],
   "source": [
    "# not, in, and, or are some Python keywords that are useful in asking questions"
   ]
  },
  {
   "attachments": {},
   "cell_type": "markdown",
   "id": "3f216527",
   "metadata": {},
   "source": [
    "## 2.1 Asking Math questions"
   ]
  },
  {
   "cell_type": "code",
   "execution_count": 5,
   "id": "93d59742-9c77-412b-a9c0-30fdca12cb48",
   "metadata": {},
   "outputs": [
    {
     "data": {
      "text/plain": [
       "True"
      ]
     },
     "execution_count": 5,
     "metadata": {},
     "output_type": "execute_result"
    }
   ],
   "source": [
    "20+30==50\n",
    "20+40!=60\n",
    "20+50>70\n",
    "20+60>=80"
   ]
  },
  {
   "cell_type": "code",
   "execution_count": null,
   "id": "e3750136-a862-445d-9da5-44beef5a7b7e",
   "metadata": {},
   "outputs": [],
   "source": [
    "Equals?\t\t            ==\n",
    "Not equal?\t\t        !=\n",
    "Less than?\t         \t<\n",
    "Greater than?\t\t    >\n",
    "Less than or equal?\t\t<=\n",
    "Greater than or equal?  >="
   ]
  },
  {
   "attachments": {},
   "cell_type": "markdown",
   "id": "b48b2932",
   "metadata": {},
   "source": [
    "# 3 Python stores information in different formats or types"
   ]
  },
  {
   "cell_type": "code",
   "execution_count": 25,
   "id": "1ab193b1-f454-49a0-8b3c-829242e95f54",
   "metadata": {},
   "outputs": [
    {
     "name": "stdout",
     "output_type": "stream",
     "text": [
      "1 <class 'int'>\n",
      "1.234 <class 'str'>\n",
      "1.234 <class 'float'>\n",
      "(1.234+0j) <class 'complex'>\n"
     ]
    }
   ],
   "source": [
    "x=int(1.234)\n",
    "print(x, type(x))\n",
    "\n",
    "x=str(1.234)\n",
    "print(x, type(x))\n",
    "\n",
    "x=float(1.234)\n",
    "print(x, type(x))\n",
    "\n",
    "x=complex(1.234)\n",
    "print(x, type(x))\n",
    "\n"
   ]
  },
  {
   "attachments": {},
   "cell_type": "markdown",
   "id": "2a588270",
   "metadata": {},
   "source": [
    "# 4 Never compare floats directly"
   ]
  },
  {
   "attachments": {},
   "cell_type": "markdown",
   "id": "25bd057e",
   "metadata": {},
   "source": [
    "## 4.1 The Problem"
   ]
  },
  {
   "cell_type": "code",
   "execution_count": 15,
   "id": "a01d21fc-7836-4c8f-b5b5-76da3095ecfb",
   "metadata": {},
   "outputs": [
    {
     "data": {
      "text/plain": [
       "False"
      ]
     },
     "execution_count": 15,
     "metadata": {},
     "output_type": "execute_result"
    }
   ],
   "source": [
    "a = 0.1\n",
    "a3 = 0.3\n",
    "a * 3 == a3\n",
    "\n",
    "#floating point numbers cannot be exactly stored in a computer --> leads to errors called roundoff errors"
   ]
  },
  {
   "attachments": {},
   "cell_type": "markdown",
   "id": "3adad585",
   "metadata": {},
   "source": [
    "## 4.2 A solution"
   ]
  },
  {
   "cell_type": "code",
   "execution_count": 16,
   "id": "166e6500-c3d6-4052-a3a7-bd9643d41b30",
   "metadata": {},
   "outputs": [
    {
     "data": {
      "text/plain": [
       "True"
      ]
     },
     "execution_count": 16,
     "metadata": {},
     "output_type": "execute_result"
    }
   ],
   "source": [
    "a = 0.1\n",
    "a3 = 0.3\n",
    "a * 3 == a3\n",
    "\n",
    "eps = 1E-10\n",
    "abs(a * 3 - a3) < eps\n",
    "\n",
    "#checks if values are close to expected value, doesn't check for equality"
   ]
  },
  {
   "cell_type": "code",
   "execution_count": 21,
   "id": "f7b5348b-7b2c-496b-ac4e-086f51ac385a",
   "metadata": {},
   "outputs": [
    {
     "data": {
      "text/plain": [
       "np.True_"
      ]
     },
     "execution_count": 21,
     "metadata": {},
     "output_type": "execute_result"
    }
   ],
   "source": [
    "import numpy as np\n",
    "np.isclose(a*3,a3)"
   ]
  },
  {
   "attachments": {},
   "cell_type": "markdown",
   "id": "a5963ffe",
   "metadata": {},
   "source": [
    "# 5 Combining English and variables"
   ]
  },
  {
   "cell_type": "code",
   "execution_count": 41,
   "id": "8562dc5a-b2b4-47fe-8450-71beae3fe73d",
   "metadata": {},
   "outputs": [
    {
     "name": "stdout",
     "output_type": "stream",
     "text": [
      "hello Batman!\n"
     ]
    }
   ],
   "source": [
    "name='Batman'\n",
    "print(f\"hello {name}!\")\n",
    "\n"
   ]
  },
  {
   "cell_type": "code",
   "execution_count": 33,
   "id": "50213da0-2686-41fe-845e-80bbb5a457af",
   "metadata": {},
   "outputs": [
    {
     "name": "stdout",
     "output_type": "stream",
     "text": [
      "hello batman!\n"
     ]
    }
   ],
   "source": [
    "name='Batman'\n",
    "print(f\"hello {name.upper()}!\")"
   ]
  },
  {
   "cell_type": "code",
   "execution_count": 39,
   "id": "061f5d12-9028-476c-8a42-dc1234d5fdd5",
   "metadata": {},
   "outputs": [
    {
     "name": "stdout",
     "output_type": "stream",
     "text": [
      "the value of x squared is 100\n"
     ]
    }
   ],
   "source": [
    "x=10\n",
    "print(f\"the value of x squared is {x**2}\")"
   ]
  },
  {
   "cell_type": "code",
   "execution_count": 5,
   "id": "51eae965-34c4-4a3d-9bcc-091d13fd091e",
   "metadata": {},
   "outputs": [
    {
     "name": "stdout",
     "output_type": "stream",
     "text": [
      "Bruce Wayne is Batman\n"
     ]
    }
   ],
   "source": [
    "text='Bruce Wayne is Batman'\n",
    "print(f'{text}')"
   ]
  },
  {
   "cell_type": "code",
   "execution_count": 10,
   "id": "b4bf25c7-2dea-4851-8493-c5b340940bb8",
   "metadata": {},
   "outputs": [
    {
     "name": "stdout",
     "output_type": "stream",
     "text": [
      "         Bruce Wayne is Batman\n"
     ]
    }
   ],
   "source": [
    "print(f'{text:>30}')"
   ]
  },
  {
   "cell_type": "code",
   "execution_count": 11,
   "id": "8476a8d7-4ef6-4248-b1e6-249a4976a206",
   "metadata": {},
   "outputs": [
    {
     "name": "stdout",
     "output_type": "stream",
     "text": [
      "    Bruce Wayne is Batman     \n"
     ]
    }
   ],
   "source": [
    "print(f'{text:^30}')"
   ]
  },
  {
   "cell_type": "code",
   "execution_count": 15,
   "id": "dde103ad-c5c7-4cd7-9f09-206288c33228",
   "metadata": {},
   "outputs": [
    {
     "name": "stdout",
     "output_type": "stream",
     "text": [
      "Bruce Wayne is Batman         \n"
     ]
    }
   ],
   "source": [
    "print(f'{text:<30}')"
   ]
  },
  {
   "cell_type": "code",
   "execution_count": 16,
   "id": "e0ff9632-f683-4986-83e4-7c18f95a0235",
   "metadata": {},
   "outputs": [],
   "source": [
    "import numpy as np"
   ]
  },
  {
   "cell_type": "code",
   "execution_count": 27,
   "id": "584293fc-6012-42a4-8f5b-1d12e7b6a532",
   "metadata": {},
   "outputs": [
    {
     "name": "stdout",
     "output_type": "stream",
     "text": [
      "the cube of pi to 6 decimal places is 31.006277\n"
     ]
    }
   ],
   "source": [
    "print (f'the cube of pi to 6 decimal places is {np.pi**3:.6f}')"
   ]
  },
  {
   "cell_type": "code",
   "execution_count": 26,
   "id": "3e2db8c6-2e53-483a-a419-819350c667c0",
   "metadata": {},
   "outputs": [
    {
     "name": "stdout",
     "output_type": "stream",
     "text": [
      "the cube of pi to 6 decimal places is 3.100628e+01\n"
     ]
    }
   ],
   "source": [
    "print (f'the cube of pi to 6 decimal places is {np.pi**3:.6e}')"
   ]
  },
  {
   "attachments": {},
   "cell_type": "markdown",
   "id": "92495029",
   "metadata": {},
   "source": [
    "## 5.1 Structure of f-strings"
   ]
  },
  {
   "cell_type": "code",
   "execution_count": null,
   "id": "7ae9a167-0f63-4242-9c9e-a795010659b9",
   "metadata": {},
   "outputs": [],
   "source": [
    "#float/str modifiers are placed within the variable with general format {X:>0Y.ZW}\n",
    "\n",
    "\n",
    "# x is the variable\n",
    "# > or < are used for alignment\n",
    "# 0s pad spaces\n",
    "# Y denotes the number of characters\n",
    "# Z denotes the number of decimal places\n",
    "# W specifies the type of variable"
   ]
  },
  {
   "attachments": {},
   "cell_type": "markdown",
   "id": "bbc812c6",
   "metadata": {},
   "source": [
    "# 6 Escape sequences"
   ]
  },
  {
   "cell_type": "code",
   "execution_count": null,
   "id": "f6133e4f-e9ec-4586-a6fa-fa5582fd0183",
   "metadata": {},
   "outputs": [],
   "source": [
    "#\\’\t   Single quote\n",
    "#\\\\\t   Backslash\n",
    "#\\n    Newline\n",
    "#\\t\t   Horizontal Tab\n"
   ]
  },
  {
   "cell_type": "code",
   "execution_count": 48,
   "id": "a5c3a05c-9ff1-4b1b-bdcf-f17586f3c2df",
   "metadata": {},
   "outputs": [
    {
     "name": "stdout",
     "output_type": "stream",
     "text": [
      "Line 1\n",
      "\tLine 2\n",
      "\t\tLine 3\n"
     ]
    }
   ],
   "source": [
    "print('Line 1\\n\\tLine 2\\n\\t\\tLine 3')"
   ]
  },
  {
   "cell_type": "code",
   "execution_count": 59,
   "id": "131f9950-4b22-45ad-a980-d0bfdc063efb",
   "metadata": {},
   "outputs": [
    {
     "name": "stdout",
     "output_type": "stream",
     "text": [
      "You're twenty years old.\n"
     ]
    }
   ],
   "source": [
    "print('You\\'re twenty years old.')"
   ]
  },
  {
   "cell_type": "code",
   "execution_count": 62,
   "id": "3a673cd9-6713-4331-a7e3-6ae5dccf45d8",
   "metadata": {},
   "outputs": [
    {
     "name": "stdout",
     "output_type": "stream",
     "text": [
      "A\\B\\C\\\n"
     ]
    }
   ],
   "source": [
    "print('A\\\\B\\\\C\\\\')"
   ]
  },
  {
   "cell_type": "code",
   "execution_count": 63,
   "id": "674b39c3-792a-4082-b18d-beb297eed4ef",
   "metadata": {},
   "outputs": [
    {
     "name": "stdout",
     "output_type": "stream",
     "text": [
      "A\n",
      "B\n",
      "C\n"
     ]
    }
   ],
   "source": [
    "print('A\\nB\\nC')"
   ]
  },
  {
   "cell_type": "code",
   "execution_count": 65,
   "id": "395c9700-32df-4a14-be5e-e7dbb38395e4",
   "metadata": {},
   "outputs": [
    {
     "name": "stdout",
     "output_type": "stream",
     "text": [
      "A\tB\tC\n"
     ]
    }
   ],
   "source": [
    "print('A\\tB\\tC')"
   ]
  },
  {
   "attachments": {},
   "cell_type": "markdown",
   "id": "0afb769f",
   "metadata": {},
   "source": [
    "## 6.1 Self-documenting f-strings"
   ]
  },
  {
   "cell_type": "code",
   "execution_count": 68,
   "id": "f66a07dc-799c-461c-a8b4-b16a468eee38",
   "metadata": {},
   "outputs": [
    {
     "name": "stdout",
     "output_type": "stream",
     "text": [
      "x=42 and y=24\n"
     ]
    }
   ],
   "source": [
    "x,y = 42,24\n",
    "print(f'{x=} and {y=}')\n",
    "\n",
    "#can print var and value at the same time"
   ]
  },
  {
   "cell_type": "code",
   "execution_count": 77,
   "id": "94b676dd-f880-4be7-9639-c82f10d8e054",
   "metadata": {},
   "outputs": [
    {
     "name": "stdout",
     "output_type": "stream",
     "text": [
      "x=8.400 and y=4.80000\n"
     ]
    }
   ],
   "source": [
    "x,y = 42/5,24/5\n",
    "print(f'{x=:.3f} and {y=:.5f}')"
   ]
  },
  {
   "attachments": {},
   "cell_type": "markdown",
   "id": "a59436cc",
   "metadata": {},
   "source": [
    "# 7 Computers read = from Right to Left!"
   ]
  },
  {
   "cell_type": "code",
   "execution_count": 81,
   "id": "687568a1-067d-4406-9289-8b6fe5327e30",
   "metadata": {},
   "outputs": [
    {
     "name": "stdout",
     "output_type": "stream",
     "text": [
      "42\n"
     ]
    }
   ],
   "source": [
    "x=40\n",
    "y=x+2\n",
    "\n",
    "print (y)"
   ]
  },
  {
   "cell_type": "code",
   "execution_count": 95,
   "id": "8b68a2f3-b7e6-4712-86a5-d4ff88cb36a7",
   "metadata": {},
   "outputs": [
    {
     "name": "stdout",
     "output_type": "stream",
     "text": [
      "42\n"
     ]
    }
   ],
   "source": [
    "y=40\n",
    "y=y+2\n",
    "print(y)"
   ]
  },
  {
   "cell_type": "code",
   "execution_count": 84,
   "id": "5df83055-68c9-4aee-aae1-eb15610e5057",
   "metadata": {},
   "outputs": [],
   "source": [
    "x=y=10"
   ]
  },
  {
   "attachments": {},
   "cell_type": "markdown",
   "id": "c055cb70",
   "metadata": {},
   "source": [
    "# 8 Shorter and Cleaner Code"
   ]
  },
  {
   "cell_type": "code",
   "execution_count": 92,
   "id": "5df321f5-57f5-4021-86af-004f36a66b1d",
   "metadata": {},
   "outputs": [
    {
     "name": "stdout",
     "output_type": "stream",
     "text": [
      "11\n"
     ]
    }
   ],
   "source": [
    "y=7\n",
    "y+=4\n",
    "print(y)"
   ]
  },
  {
   "attachments": {},
   "cell_type": "markdown",
   "id": "478d80ca",
   "metadata": {},
   "source": [
    "# 9 Python can be a prima-donna."
   ]
  },
  {
   "attachments": {},
   "cell_type": "markdown",
   "id": "9ab9aaeb",
   "metadata": {},
   "source": [
    "# 10 Best Practices for Scientific Computing"
   ]
  },
  {
   "cell_type": "code",
   "execution_count": 97,
   "id": "f9e74ce5-64c0-4845-bc5c-30b3f53b3a9d",
   "metadata": {},
   "outputs": [],
   "source": [
    "# Write programs for people, not computers\n",
    "# Optimise software only after it works correctly\n",
    "# Document design and purpose, not mechanics\n",
    "# Collaborate"
   ]
  },
  {
   "attachments": {},
   "cell_type": "markdown",
   "id": "5f6e0049",
   "metadata": {},
   "source": [
    "# 11 Looking for help"
   ]
  },
  {
   "cell_type": "code",
   "execution_count": 96,
   "id": "069e86c1-8059-4d32-bc3c-542ec2e556a1",
   "metadata": {},
   "outputs": [
    {
     "name": "stdout",
     "output_type": "stream",
     "text": [
      "Type help() for interactive help, or help(object) for help about object.\n"
     ]
    }
   ],
   "source": [
    "print(help)"
   ]
  },
  {
   "attachments": {},
   "cell_type": "markdown",
   "id": "58fc5221",
   "metadata": {},
   "source": [
    "## References"
   ]
  },
  {
   "attachments": {},
   "cell_type": "markdown",
   "id": "b9f1f94f",
   "metadata": {},
   "source": [
    "## Footnotes"
   ]
  }
 ],
 "metadata": {
  "kernelspec": {
   "display_name": "Python 3 (ipykernel)",
   "language": "python",
   "name": "python3"
  },
  "language_info": {
   "codemirror_mode": {
    "name": "ipython",
    "version": 3
   },
   "file_extension": ".py",
   "mimetype": "text/x-python",
   "name": "python",
   "nbconvert_exporter": "python",
   "pygments_lexer": "ipython3",
   "version": "3.12.2"
  },
  "toc": {
   "base_numbering": 1,
   "nav_menu": {},
   "number_sections": true,
   "sideBar": true,
   "skip_h1_title": false,
   "title_cell": "Table of Contents",
   "title_sidebar": "Contents",
   "toc_cell": false,
   "toc_position": {},
   "toc_section_display": true,
   "toc_window_display": false
  },
  "vscode": {
   "interpreter": {
    "hash": "31f2aee4e71d21fbe5cf8b01ff0e069b9275f58929596ceb00d14d90e3e16cd6"
   }
  }
 },
 "nbformat": 4,
 "nbformat_minor": 5
}
