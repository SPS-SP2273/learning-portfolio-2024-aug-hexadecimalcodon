{
 "cells": [
  {
   "attachments": {},
   "cell_type": "markdown",
   "id": "123456",
   "metadata": {},
   "source": [
    "<div style=\"text-align:left;font-size:2em\"><span style=\"font-weight:bolder;font-size:1.25em\">SP2273 | Learning Portfolio</span><br><br><span style=\"font-weight:bold;color:darkred\">Functions (Good)</span></div>"
   ]
  },
  {
   "attachments": {},
   "cell_type": "markdown",
   "id": "9da63721",
   "metadata": {},
   "source": [
    "# What to expect in this chapter"
   ]
  },
  {
   "attachments": {},
   "cell_type": "markdown",
   "id": "c29c060d",
   "metadata": {},
   "source": [
    "# 1 Checks, balances, and contingencies"
   ]
  },
  {
   "attachments": {},
   "cell_type": "markdown",
   "id": "2d9f5a19",
   "metadata": {},
   "source": [
    "## 1.1 assert"
   ]
  },
  {
   "cell_type": "code",
   "execution_count": 10,
   "id": "37f63c74-2653-42f9-aaee-76d0fd7cda7c",
   "metadata": {},
   "outputs": [],
   "source": [
    "x=5\n",
    "assert x>=0, \"x is becoming negative!\"\n",
    "\n",
    "#will check conditions and halt execution if needed\n",
    "#general format: assert condition-to-check, 'message' "
   ]
  },
  {
   "cell_type": "code",
   "execution_count": 11,
   "id": "dcc1fe02-0833-4c07-a4b1-d9e462164b3f",
   "metadata": {},
   "outputs": [
    {
     "ename": "AssertionError",
     "evalue": "x is becoming negative!",
     "output_type": "error",
     "traceback": [
      "\u001b[0;31m---------------------------------------------------------------------------\u001b[0m",
      "\u001b[0;31mAssertionError\u001b[0m                            Traceback (most recent call last)",
      "Cell \u001b[0;32mIn[11], line 2\u001b[0m\n\u001b[1;32m      1\u001b[0m x\u001b[38;5;241m=\u001b[39m\u001b[38;5;241m-\u001b[39m\u001b[38;5;241m5\u001b[39m\n\u001b[0;32m----> 2\u001b[0m \u001b[38;5;28;01massert\u001b[39;00m x\u001b[38;5;241m>\u001b[39m\u001b[38;5;241m=\u001b[39m\u001b[38;5;241m0\u001b[39m, \u001b[38;5;124m\"\u001b[39m\u001b[38;5;124mx is becoming negative!\u001b[39m\u001b[38;5;124m\"\u001b[39m\n",
      "\u001b[0;31mAssertionError\u001b[0m: x is becoming negative!"
     ]
    }
   ],
   "source": [
    "x=-5\n",
    "assert x>=0, \"x is becoming negative!\""
   ]
  },
  {
   "attachments": {},
   "cell_type": "markdown",
   "id": "094694ac",
   "metadata": {},
   "source": [
    "## 1.2 try-except"
   ]
  },
  {
   "cell_type": "code",
   "execution_count": 2,
   "id": "d6c63fd7-6966-4071-8337-e1138f6d6618",
   "metadata": {},
   "outputs": [
    {
     "name": "stdin",
     "output_type": "stream",
     "text": [
      "Give me a number and I will calculate its square. -4\n"
     ]
    },
    {
     "name": "stdout",
     "output_type": "stream",
     "text": [
      "The square of -4 is 16!\n"
     ]
    }
   ],
   "source": [
    "number=input(\"Give me a number and I will calculate its square.\")\n",
    "square=int(number)**2              # Convert English to number\n",
    "print(f'The square of {number} is {square}!')"
   ]
  },
  {
   "cell_type": "code",
   "execution_count": 12,
   "id": "321c4da7-fe59-49f2-a61c-99637abf248e",
   "metadata": {},
   "outputs": [
    {
     "name": "stdin",
     "output_type": "stream",
     "text": [
      "Give me a number and I will calculate its square. joeuper\n"
     ]
    },
    {
     "name": "stdout",
     "output_type": "stream",
     "text": [
      "Oh oh! I cannot square joeuper!\n"
     ]
    }
   ],
   "source": [
    "try:\n",
    "    number=input(\"Give me a number and I will calculate its square.\")\n",
    "    square=int(number)**2              \n",
    "    print(f'The square of {number} is {square}!')\n",
    "except: \n",
    "    print(f\"Oh oh! I cannot square {number}!\")\n",
    "\n",
    "#used for false/unusable inputs\n",
    "#if an error occurs, python will run the code in the except block"
   ]
  },
  {
   "attachments": {},
   "cell_type": "markdown",
   "id": "a0da0581",
   "metadata": {},
   "source": [
    "## 1.3 A simple suggestion"
   ]
  },
  {
   "cell_type": "code",
   "execution_count": null,
   "id": "f678fe92-0b4e-40f7-ae30-95369686a2e6",
   "metadata": {},
   "outputs": [],
   "source": [
    "#use print statements liberally to denote what is happening in the code"
   ]
  },
  {
   "attachments": {},
   "cell_type": "markdown",
   "id": "330b3ebb",
   "metadata": {},
   "source": [
    "# 2 Some loose ends"
   ]
  },
  {
   "attachments": {},
   "cell_type": "markdown",
   "id": "d1839b36",
   "metadata": {},
   "source": [
    "## 2.1 Positional, keyword and default arguments"
   ]
  },
  {
   "cell_type": "code",
   "execution_count": 7,
   "id": "8590c16e-eac6-4832-98ea-ff27d9173f4e",
   "metadata": {},
   "outputs": [],
   "source": [
    "def side_by_side(a, b, c=42):     \n",
    "    return f'{a: 2d}|{b: 2d}|{c: 2d}'"
   ]
  },
  {
   "cell_type": "code",
   "execution_count": 8,
   "id": "1243bba5-b179-4614-9f9d-0da5dea4481b",
   "metadata": {},
   "outputs": [
    {
     "data": {
      "text/plain": [
       "' 3| 2| 3'"
      ]
     },
     "execution_count": 8,
     "metadata": {},
     "output_type": "execute_result"
    }
   ],
   "source": [
    "# Positional\n",
    "side_by_side(3,2,3)"
   ]
  },
  {
   "cell_type": "code",
   "execution_count": 3,
   "id": "f42949bc-6b94-48a9-8f38-bd861cfcc1e9",
   "metadata": {},
   "outputs": [
    {
     "data": {
      "text/plain": [
       "' 2| 1| 3'"
      ]
     },
     "execution_count": 3,
     "metadata": {},
     "output_type": "execute_result"
    }
   ],
   "source": [
    "# Keywords\n",
    "side_by_side(c=3, b=1, a=2)"
   ]
  },
  {
   "cell_type": "code",
   "execution_count": 17,
   "id": "13cd7607-dc09-436f-b0ef-9dbbcd6608c9",
   "metadata": {},
   "outputs": [
    {
     "data": {
      "text/plain": [
       "' 1| 2| 42'"
      ]
     },
     "execution_count": 17,
     "metadata": {},
     "output_type": "execute_result"
    }
   ],
   "source": [
    "# Default\n",
    "side_by_side(1, b=2)"
   ]
  },
  {
   "cell_type": "code",
   "execution_count": null,
   "id": "26ec708f-116f-42ad-aceb-e8bdd38b1a95",
   "metadata": {},
   "outputs": [],
   "source": [
    "side_by_side(1, 2)           # Two positional, 1 default\n",
    "## ' 1| 2| 42'\n",
    "side_by_side(1, 2, 3)        # Three positional\n",
    "## ' 1| 2| 3'\n",
    "side_by_side(a=1, b=2)       # Two keyword, 1 default\n",
    "## ' 1| 2| 42'\n",
    "side_by_side(c=3, b=1, a=2)  # Three keyword\n",
    "## ' 2| 1| 3'\n",
    "side_by_side(1, c=3, b=2)    # One positional, 2 keyword\n",
    "## ' 1| 2| 3'\n",
    "side_by_side(1, b=2)         # One positional, 1 keyword, 1 default\n",
    "## ' 1| 2| 42'\n",
    "\n",
    "#will format print in the way it was defined in the original function"
   ]
  },
  {
   "cell_type": "code",
   "execution_count": 18,
   "id": "9e7e3886-a92d-4096-9e35-af5b67560e2d",
   "metadata": {},
   "outputs": [
    {
     "ename": "SyntaxError",
     "evalue": "positional argument follows keyword argument (3855048630.py, line 3)",
     "output_type": "error",
     "traceback": [
      "\u001b[0;36m  Cell \u001b[0;32mIn[18], line 3\u001b[0;36m\u001b[0m\n\u001b[0;31m    side_by_side(a=2, 1)      # Won't work.\u001b[0m\n\u001b[0m                       ^\u001b[0m\n\u001b[0;31mSyntaxError\u001b[0m\u001b[0;31m:\u001b[0m positional argument follows keyword argument\n"
     ]
    }
   ],
   "source": [
    "# Keywords cannot be followed \n",
    "# by positional arguments\n",
    "side_by_side(a=2, 1)      # Won't work.                          "
   ]
  },
  {
   "attachments": {},
   "cell_type": "markdown",
   "id": "f9aee74f",
   "metadata": {},
   "source": [
    "## 2.2 Docstrings"
   ]
  },
  {
   "cell_type": "code",
   "execution_count": 19,
   "id": "5d6cd3ff-344e-459f-9717-9d5c3ba9a528",
   "metadata": {},
   "outputs": [],
   "source": [
    "def side_by_side(a, b, c=42):\n",
    "    '''\n",
    "    A test function to demonstrate how \n",
    "    positional, keyword and default arguments \n",
    "    work.\n",
    "    '''\n",
    "    return f'{a: 2d}|{b: 2d}|{c: 2d}'"
   ]
  },
  {
   "cell_type": "code",
   "execution_count": 20,
   "id": "b8a6e2ec-f323-45be-ac03-4c5f450b0a5c",
   "metadata": {},
   "outputs": [
    {
     "name": "stdout",
     "output_type": "stream",
     "text": [
      "Help on function side_by_side in module __main__:\n",
      "\n",
      "side_by_side(a, b, c=42)\n",
      "    A test function to demonstrate how\n",
      "    positional, keyword and default arguments\n",
      "    work.\n",
      "\n"
     ]
    }
   ],
   "source": [
    "help(side_by_side)"
   ]
  },
  {
   "attachments": {},
   "cell_type": "markdown",
   "id": "122cb259",
   "metadata": {},
   "source": [
    "## 2.3 Function are first-class citizens"
   ]
  },
  {
   "cell_type": "code",
   "execution_count": 10,
   "id": "42b7abf1-2a76-4ddc-8eb4-0a8b70f84aca",
   "metadata": {},
   "outputs": [],
   "source": [
    "import numpy as np"
   ]
  },
  {
   "cell_type": "code",
   "execution_count": 13,
   "id": "a5eacb73-9106-4bfc-bfe7-a3f02229ea16",
   "metadata": {},
   "outputs": [
    {
     "data": {
      "text/plain": [
       "np.float64(-1.0)"
      ]
     },
     "execution_count": 13,
     "metadata": {},
     "output_type": "execute_result"
    }
   ],
   "source": [
    "def my_function(angle, trig_function):\n",
    "        return trig_function(angle)\n",
    "\n",
    "# Let's use the function\n",
    "#my_function(np.pi/2, np.sin)        \n",
    "## 1.0\n",
    "#my_function(np.pi/2, np.cos)        \n",
    "## 6.123233995736766e-17\n",
    "my_function(np.pi/2, lambda x: np.cos(2*x))  \n",
    "## -1.0\n",
    "\n",
    "#functions have the same privileges as variables\n",
    "#thus they can be the arguments to other functions as seen by the use of lambda x"
   ]
  },
  {
   "attachments": {},
   "cell_type": "markdown",
   "id": "2bdba860",
   "metadata": {},
   "source": [
    "## 2.4 More about unpacking"
   ]
  },
  {
   "cell_type": "code",
   "execution_count": 26,
   "id": "3cf743de-a655-40bf-9c38-9d5791ba4f0a",
   "metadata": {},
   "outputs": [
    {
     "data": {
      "text/plain": [
       "(1, 2, 3)"
      ]
     },
     "execution_count": 26,
     "metadata": {},
     "output_type": "execute_result"
    }
   ],
   "source": [
    "x, y, z = [1, 2, 3]\n",
    "x, y, z"
   ]
  },
  {
   "cell_type": "code",
   "execution_count": 27,
   "id": "94f5f94d-96e5-4af7-8c11-653632fe646d",
   "metadata": {},
   "outputs": [
    {
     "data": {
      "text/plain": [
       "(1, [2, 3, 4], 5)"
      ]
     },
     "execution_count": 27,
     "metadata": {},
     "output_type": "execute_result"
    }
   ],
   "source": [
    "x, *y, z = [1,2,3,4,5]\n",
    "x,y,z\n",
    "\n",
    "#takes everything between 1 and 5"
   ]
  },
  {
   "cell_type": "code",
   "execution_count": 15,
   "id": "9646a367-db62-4e6f-8602-191007e2d5c6",
   "metadata": {},
   "outputs": [
    {
     "name": "stdout",
     "output_type": "stream",
     "text": [
      "2 3 4\n"
     ]
    }
   ],
   "source": [
    "x, *_, y = [1,2,3,4,5]\n",
    "print(*_)\n",
    "\n",
    "#can be used to exclude certain values"
   ]
  }
 ],
 "metadata": {
  "kernelspec": {
   "display_name": "Python 3 (ipykernel)",
   "language": "python",
   "name": "python3"
  },
  "language_info": {
   "codemirror_mode": {
    "name": "ipython",
    "version": 3
   },
   "file_extension": ".py",
   "mimetype": "text/x-python",
   "name": "python",
   "nbconvert_exporter": "python",
   "pygments_lexer": "ipython3",
   "version": "3.12.2"
  },
  "toc": {
   "base_numbering": 1,
   "nav_menu": {},
   "number_sections": true,
   "sideBar": true,
   "skip_h1_title": false,
   "title_cell": "Table of Contents",
   "title_sidebar": "Contents",
   "toc_cell": false,
   "toc_position": {},
   "toc_section_display": true,
   "toc_window_display": false
  },
  "vscode": {
   "interpreter": {
    "hash": "31f2aee4e71d21fbe5cf8b01ff0e069b9275f58929596ceb00d14d90e3e16cd6"
   }
  }
 },
 "nbformat": 4,
 "nbformat_minor": 5
}
