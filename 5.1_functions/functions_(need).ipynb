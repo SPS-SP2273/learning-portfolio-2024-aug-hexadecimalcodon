{
 "cells": [
  {
   "attachments": {},
   "cell_type": "markdown",
   "id": "123456",
   "metadata": {},
   "source": [
    "<div style=\"text-align:left;font-size:2em\"><span style=\"font-weight:bolder;font-size:1.25em\">SP2273 | Learning Portfolio</span><br><br><span style=\"font-weight:bold;color:darkred\">Functions (Need)</span></div>"
   ]
  },
  {
   "attachments": {},
   "cell_type": "markdown",
   "id": "28a6dfd9",
   "metadata": {},
   "source": [
    "# What to expect in this chapter"
   ]
  },
  {
   "attachments": {},
   "cell_type": "markdown",
   "id": "be41ae33",
   "metadata": {},
   "source": [
    "# 1 User-defined functions"
   ]
  },
  {
   "attachments": {},
   "cell_type": "markdown",
   "id": "ff515928",
   "metadata": {},
   "source": [
    "## 1.1 Named Functions"
   ]
  },
  {
   "cell_type": "code",
   "execution_count": 2,
   "id": "10c30115-1512-40d8-b4ad-269e0f3060f5",
   "metadata": {},
   "outputs": [],
   "source": [
    "def greeting(name):\n",
    "    if name == 'Batman':\n",
    "        return 'Hello Batman! So, nice to meet you!'\n",
    "    else: \n",
    "        return f'Hello {name}!'\n",
    "\n",
    "#note use of == for verification\n",
    "#indentation denotes the code block of the function\n",
    "#return can only be used within a function"
   ]
  },
  {
   "cell_type": "code",
   "execution_count": 9,
   "id": "f246f9d6-d2ff-480e-aa58-ba3149f1c6cb",
   "metadata": {},
   "outputs": [
    {
     "data": {
      "text/plain": [
       "'Hello superman!'"
      ]
     },
     "execution_count": 9,
     "metadata": {},
     "output_type": "execute_result"
    }
   ],
   "source": [
    "greeting('superman')"
   ]
  },
  {
   "cell_type": "code",
   "execution_count": 6,
   "id": "703d8f9c-8bb8-464b-ac82-64dabf558d55",
   "metadata": {},
   "outputs": [
    {
     "data": {
      "text/plain": [
       "'Hello Batman! So, nice to meet you!'"
      ]
     },
     "execution_count": 6,
     "metadata": {},
     "output_type": "execute_result"
    }
   ],
   "source": [
    "greeting('Batman')"
   ]
  },
  {
   "cell_type": "code",
   "execution_count": 11,
   "id": "9084291c-626f-4fb5-9210-668ca5bd86f2",
   "metadata": {},
   "outputs": [
    {
     "name": "stdout",
     "output_type": "stream",
     "text": [
      "Hello superman!\n"
     ]
    }
   ],
   "source": [
    "greet = greeting('superman')\n",
    "print(greet)"
   ]
  },
  {
   "cell_type": "code",
   "execution_count": 12,
   "id": "8baab6fb-f58f-4d46-a38f-9222f2390819",
   "metadata": {},
   "outputs": [
    {
     "name": "stdout",
     "output_type": "stream",
     "text": [
      "Hello superman!\n"
     ]
    }
   ],
   "source": [
    "print(greeting(name='superman'))"
   ]
  },
  {
   "cell_type": "code",
   "execution_count": 15,
   "id": "45a43de6-cbc3-4461-8cfb-83978539bd5b",
   "metadata": {},
   "outputs": [],
   "source": [
    "import numpy as np"
   ]
  },
  {
   "attachments": {},
   "cell_type": "markdown",
   "id": "31ee1af3",
   "metadata": {},
   "source": [
    "### Named functions that return"
   ]
  },
  {
   "cell_type": "code",
   "execution_count": 36,
   "id": "bf582bed-a7d2-4f82-9663-ff1072397a96",
   "metadata": {},
   "outputs": [],
   "source": [
    "def basic_stats(numbers):\n",
    "    np_numbers = np.array(numbers)\n",
    "    my_min = np_numbers.min()\n",
    "    my_max = np_numbers.max()\n",
    "    my_mean = np_numbers.mean()\n",
    "    return my_max, my_min, my_mean"
   ]
  },
  {
   "cell_type": "code",
   "execution_count": 37,
   "id": "574a2176",
   "metadata": {},
   "outputs": [
    {
     "name": "stdout",
     "output_type": "stream",
     "text": [
      "5\n"
     ]
    }
   ],
   "source": [
    "list_max, list_min, list_mean = basic_stats([1, 2, 3, 4, 5])\n",
    "print(list_max)"
   ]
  },
  {
   "attachments": {},
   "cell_type": "markdown",
   "id": "c049eae2",
   "metadata": {},
   "source": [
    "### Named functions that don’t return"
   ]
  },
  {
   "cell_type": "code",
   "execution_count": null,
   "id": "e67d4e51",
   "metadata": {},
   "outputs": [],
   "source": [
    "\n",
    "# Your code here\n"
   ]
  },
  {
   "attachments": {},
   "cell_type": "markdown",
   "id": "70100a25",
   "metadata": {},
   "source": [
    "## 1.2 Anonymous functions"
   ]
  },
  {
   "cell_type": "code",
   "execution_count": 39,
   "id": "46ce9997-3681-471b-9fb0-efcc78c4b571",
   "metadata": {},
   "outputs": [],
   "source": [
    "my_short_function = lambda name: f\"Hello {name}!\"\n",
    "\n",
    "#lambdas always return vale of last statement\n",
    "#lambdas can only have one line expressions\n",
    "#general formula: lambda(input): output (no use for return, what is after the colon is already returned)\n",
    "#IMPORTANT: lambdas are used not to be called by a variable, used for functions that take in or output functions"
   ]
  },
  {
   "cell_type": "code",
   "execution_count": 40,
   "id": "47cea8bb-a477-41bb-80b6-c7d8146b7927",
   "metadata": {},
   "outputs": [
    {
     "data": {
      "text/plain": [
       "'Hello superman!'"
      ]
     },
     "execution_count": 40,
     "metadata": {},
     "output_type": "execute_result"
    }
   ],
   "source": [
    "my_short_function(name='superman')"
   ]
  },
  {
   "cell_type": "code",
   "execution_count": 4,
   "id": "f6513808-fa5d-45ef-bb16-532defa4b96a",
   "metadata": {},
   "outputs": [],
   "source": [
    "numbers=[[9, 0, -10],\n",
    "         [8, 1, -11],\n",
    "         [7, 2, -12],\n",
    "         [6, 3, -13],\n",
    "         [5, 4, -14],\n",
    "         [4, 5, -15],\n",
    "         [3, 6, -16],\n",
    "         [2, 7, -17],\n",
    "         [1, 8, -18],\n",
    "         [0, 9, -19]]"
   ]
  },
  {
   "cell_type": "code",
   "execution_count": 9,
   "id": "359f2c3f-99c8-4d11-aa3e-ef78862c54aa",
   "metadata": {},
   "outputs": [
    {
     "data": {
      "text/plain": [
       "[[0, 9, -19],\n",
       " [1, 8, -18],\n",
       " [2, 7, -17],\n",
       " [3, 6, -16],\n",
       " [4, 5, -15],\n",
       " [5, 4, -14],\n",
       " [6, 3, -13],\n",
       " [7, 2, -12],\n",
       " [8, 1, -11],\n",
       " [9, 0, -10]]"
      ]
     },
     "execution_count": 9,
     "metadata": {},
     "output_type": "execute_result"
    }
   ],
   "source": [
    "# Sort by comparing a custom key\n",
    "# that uses the sum of the elements.\n",
    "sorted(numbers, key=lambda x: x[0])   "
   ]
  },
  {
   "attachments": {},
   "cell_type": "markdown",
   "id": "4833519d",
   "metadata": {},
   "source": [
    "## 1.3 Optional arguments"
   ]
  },
  {
   "cell_type": "code",
   "execution_count": 44,
   "id": "d495289c-22c7-4fbe-8a8a-59820590f1e6",
   "metadata": {},
   "outputs": [],
   "source": [
    "def greeting(name='no one'):\n",
    "    if name == 'Batman':\n",
    "        return 'Hello Batman! So, nice to meet you!'\n",
    "    else:\n",
    "        return f'Hello {name}!'\n",
    "\n",
    "#give arg a default value so even if there is no input/a wrong input, it always produces something"
   ]
  },
  {
   "cell_type": "code",
   "execution_count": 45,
   "id": "d00f62a7-1794-4354-bf28-a7cff3584370",
   "metadata": {},
   "outputs": [
    {
     "data": {
      "text/plain": [
       "'Hello no one!'"
      ]
     },
     "execution_count": 45,
     "metadata": {},
     "output_type": "execute_result"
    }
   ],
   "source": [
    "greeting()"
   ]
  },
  {
   "cell_type": "code",
   "execution_count": 47,
   "id": "ccffd511-4e06-4e06-a729-ffb5faf3202c",
   "metadata": {},
   "outputs": [],
   "source": [
    "def greeting(name='no one', pre='Super'):\n",
    "    if name == 'Batman':\n",
    "        return 'Hello Batman! So, nice to meet you!'\n",
    "    else:\n",
    "        return f'Hello --{pre}--{name}--!'"
   ]
  },
  {
   "cell_type": "code",
   "execution_count": 51,
   "id": "1442a37e-8ff7-4fa2-a9ff-0bcd3a9527d1",
   "metadata": {},
   "outputs": [
    {
     "name": "stdout",
     "output_type": "stream",
     "text": [
      "Hello --Hhahaha--Robin--!\n",
      "Hello --Super--Robin--!\n"
     ]
    }
   ],
   "source": [
    "print(greeting('Robin', pre='Hhahaha'))\n",
    "print(greeting('Robin'))"
   ]
  },
  {
   "attachments": {},
   "cell_type": "markdown",
   "id": "a6b609f3",
   "metadata": {},
   "source": [
    "## 1.4 The importance of functions?"
   ]
  },
  {
   "attachments": {},
   "cell_type": "markdown",
   "id": "0304d9c1",
   "metadata": {},
   "source": [
    "### An argument for functions"
   ]
  },
  {
   "cell_type": "code",
   "execution_count": null,
   "id": "3d069cd2",
   "metadata": {},
   "outputs": [],
   "source": [
    "\n",
    "# Your code here\n"
   ]
  },
  {
   "attachments": {},
   "cell_type": "markdown",
   "id": "e47c7064",
   "metadata": {},
   "source": [
    "### A word of caution"
   ]
  },
  {
   "cell_type": "code",
   "execution_count": null,
   "id": "43b5371c",
   "metadata": {},
   "outputs": [],
   "source": [
    "\n",
    "# Your code here\n"
   ]
  }
 ],
 "metadata": {
  "kernelspec": {
   "display_name": "Python 3 (ipykernel)",
   "language": "python",
   "name": "python3"
  },
  "language_info": {
   "codemirror_mode": {
    "name": "ipython",
    "version": 3
   },
   "file_extension": ".py",
   "mimetype": "text/x-python",
   "name": "python",
   "nbconvert_exporter": "python",
   "pygments_lexer": "ipython3",
   "version": "3.12.2"
  },
  "toc": {
   "base_numbering": 1,
   "nav_menu": {},
   "number_sections": true,
   "sideBar": true,
   "skip_h1_title": false,
   "title_cell": "Table of Contents",
   "title_sidebar": "Contents",
   "toc_cell": false,
   "toc_position": {},
   "toc_section_display": true,
   "toc_window_display": false
  },
  "vscode": {
   "interpreter": {
    "hash": "31f2aee4e71d21fbe5cf8b01ff0e069b9275f58929596ceb00d14d90e3e16cd6"
   }
  }
 },
 "nbformat": 4,
 "nbformat_minor": 5
}
