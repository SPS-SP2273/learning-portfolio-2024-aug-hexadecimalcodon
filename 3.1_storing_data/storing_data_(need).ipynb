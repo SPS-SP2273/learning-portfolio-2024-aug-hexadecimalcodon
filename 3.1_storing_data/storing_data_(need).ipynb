{
 "cells": [
  {
   "attachments": {},
   "cell_type": "markdown",
   "id": "123456",
   "metadata": {},
   "source": [
    "<div style=\"text-align:left;font-size:2em\"><span style=\"font-weight:bolder;font-size:1.25em\">SP2273 | Learning Portfolio</span><br><br><span style=\"font-weight:bold;color:darkred\">Storing Data (Need)</span></div>"
   ]
  },
  {
   "attachments": {},
   "cell_type": "markdown",
   "id": "6ccb7148",
   "metadata": {},
   "source": [
    "# What to expect in this chapter"
   ]
  },
  {
   "cell_type": "code",
   "execution_count": 22,
   "id": "8cfd19a0-9d76-4f45-b26e-bf6398eb9bef",
   "metadata": {},
   "outputs": [],
   "source": [
    "import numpy as np"
   ]
  },
  {
   "attachments": {},
   "cell_type": "markdown",
   "id": "2203ec10",
   "metadata": {},
   "source": [
    "# 1 Lists, Arrays & Dictionaries"
   ]
  },
  {
   "attachments": {},
   "cell_type": "markdown",
   "id": "6f0f3fa5",
   "metadata": {},
   "source": [
    "## 1.1 Let’s compare"
   ]
  },
  {
   "cell_type": "code",
   "execution_count": 4,
   "id": "0980e297-8d53-4da5-bd96-b842bc093797",
   "metadata": {},
   "outputs": [],
   "source": [
    "py_super_names = [\"Black Widow\", \"Iron Man\", \"Doctor Strange\"]\n",
    "py_real_names = [\"Natasha Romanoff\", \"Tony Stark\", \"Stephen Strange\"]\n",
    "\n",
    "np_super_names = np.array([\"Black Widow\", \"Iron Man\", \"Doctor Strange\"])\n",
    "np_real_names = np.array([\"Natasha Romanoff\", \"Tony Stark\", \"Stephen Strange\"])\n",
    "\n",
    "superhero_info = {\n",
    "    \"Natasha Romanoff\": \"Black Widow\",\n",
    "    \"Tony Stark\": \"Iron Man\",\n",
    "    \"Stephen Strange\": \"Doctor Strange\"\n",
    "}\n",
    "\n",
    "#note use of curly brackets for dictionary\n",
    "#order matters for lists (black widow and nat romanoff must be in the same position)"
   ]
  },
  {
   "attachments": {},
   "cell_type": "markdown",
   "id": "098a5449",
   "metadata": {},
   "source": [
    "## 1.2 Accessing data from a list (or array)"
   ]
  },
  {
   "cell_type": "code",
   "execution_count": 7,
   "id": "23ba51fb-2379-4562-a803-463d1660f4c8",
   "metadata": {},
   "outputs": [
    {
     "data": {
      "text/plain": [
       "'Stephen Strange'"
      ]
     },
     "execution_count": 7,
     "metadata": {},
     "output_type": "execute_result"
    }
   ],
   "source": [
    "py_real_names [0]\n",
    "py_super_names [2]\n",
    "\n",
    "#python is 0-indexed, starts counting from 0\n",
    "#note use of [] to access list"
   ]
  },
  {
   "cell_type": "code",
   "execution_count": 8,
   "id": "80d8ea17-7d4f-468d-8379-62b842e63366",
   "metadata": {},
   "outputs": [
    {
     "data": {
      "text/plain": [
       "'Doctor Strange'"
      ]
     },
     "execution_count": 8,
     "metadata": {},
     "output_type": "execute_result"
    }
   ],
   "source": [
    "py_super_names[2]    # Forward indexing \n",
    "                     # We need to know the size \n",
    "                     # beforehand for this to work."
   ]
  },
  {
   "cell_type": "code",
   "execution_count": 9,
   "id": "cd2e9dd3-3201-4c74-a54c-7795f30c714e",
   "metadata": {},
   "outputs": [
    {
     "data": {
      "text/plain": [
       "'Doctor Strange'"
      ]
     },
     "execution_count": 9,
     "metadata": {},
     "output_type": "execute_result"
    }
   ],
   "source": [
    "py_super_names [-1]"
   ]
  },
  {
   "cell_type": "code",
   "execution_count": 5,
   "id": "7d0988b1-79b2-4d42-969e-2d8b8ce64865",
   "metadata": {},
   "outputs": [
    {
     "name": "stdout",
     "output_type": "stream",
     "text": [
      "['Yippe' 'Iron Man' 'Doctor Strange']\n"
     ]
    }
   ],
   "source": [
    "np_super_names [0] = 'Yippe'\n",
    "print(np_super_names)"
   ]
  },
  {
   "attachments": {},
   "cell_type": "markdown",
   "id": "1df51df1",
   "metadata": {},
   "source": [
    "## 1.3 Accessing data from a dictionary"
   ]
  },
  {
   "cell_type": "code",
   "execution_count": 12,
   "id": "54751c41-5e6f-4f47-9acf-8e074a3fe4aa",
   "metadata": {},
   "outputs": [
    {
     "data": {
      "text/plain": [
       "'Black Widow'"
      ]
     },
     "execution_count": 12,
     "metadata": {},
     "output_type": "execute_result"
    }
   ],
   "source": [
    "superhero_info[\"Natasha Romanoff\"]"
   ]
  },
  {
   "cell_type": "code",
   "execution_count": 13,
   "id": "46cfa813-b948-4cd0-9120-e12257a236a0",
   "metadata": {},
   "outputs": [
    {
     "data": {
      "text/plain": [
       "dict_keys(['Natasha Romanoff', 'Tony Stark', 'Stephen Strange'])"
      ]
     },
     "execution_count": 13,
     "metadata": {},
     "output_type": "execute_result"
    }
   ],
   "source": [
    "superhero_info.keys() #.keys() pulls all the keys (elements before the colon)"
   ]
  },
  {
   "cell_type": "code",
   "execution_count": 14,
   "id": "714bdb42-a8cc-42de-89e6-0507d090df2a",
   "metadata": {},
   "outputs": [
    {
     "data": {
      "text/plain": [
       "dict_values(['Black Widow', 'Iron Man', 'Doctor Strange'])"
      ]
     },
     "execution_count": 14,
     "metadata": {},
     "output_type": "execute_result"
    }
   ],
   "source": [
    "superhero_info.values() #.values pulls all the values(elements after the colon)\n",
    "\n",
    "#dictionaries are not commutative, can only use keys to pull values and not the other way around"
   ]
  },
  {
   "attachments": {},
   "cell_type": "markdown",
   "id": "887a4d9f",
   "metadata": {},
   "source": [
    "## 1.4 Higher dimensional lists"
   ]
  },
  {
   "cell_type": "code",
   "execution_count": 16,
   "id": "c1f7969a-26a8-4507-abfc-f22cb1c30e4f",
   "metadata": {},
   "outputs": [],
   "source": [
    "py_superhero_info = [['Natasha Romanoff', 'Black Widow'],\n",
    "                     ['Tony Stark', 'Iron Man'],\n",
    "                     ['Stephen Strange', 'Doctor Strange']]\n",
    "\n",
    "#note use of [[]] for 2d lists"
   ]
  },
  {
   "cell_type": "code",
   "execution_count": 18,
   "id": "e45d8c61-7980-4518-961c-2771fbf77a63",
   "metadata": {},
   "outputs": [
    {
     "data": {
      "text/plain": [
       "['Natasha Romanoff', 'Black Widow']"
      ]
     },
     "execution_count": 18,
     "metadata": {},
     "output_type": "execute_result"
    }
   ],
   "source": [
    "py_superhero_info[0]\n",
    "\n",
    "#for 2d lists, indexing pulls 2 elements in 1st position"
   ]
  },
  {
   "attachments": {},
   "cell_type": "markdown",
   "id": "15c370e3",
   "metadata": {},
   "source": [
    "# 2 Lists vs. Arrays"
   ]
  },
  {
   "attachments": {},
   "cell_type": "markdown",
   "id": "24b37ef9",
   "metadata": {},
   "source": [
    "## 2.1 Size"
   ]
  },
  {
   "cell_type": "code",
   "execution_count": 30,
   "id": "648928a8-f7e1-43be-b64c-9c78b69c711c",
   "metadata": {},
   "outputs": [],
   "source": [
    "py_list_2d = [['1,A'], ['2,B'], ['3,C'], ['4,D'], ['5,E'], ['6,F'], ['7,G'], ['8,H'], ['9,I'], ['10,J']]\n",
    "np_array_2d = np.array(py_list_2d)\n",
    "\n",
    "#len() can be used to find the number of elements in a list or array\n",
    "#for 2d lists/arrays, len() pulls all the sets of elements"
   ]
  },
  {
   "cell_type": "code",
   "execution_count": 31,
   "id": "821bb5b9-27b8-4602-a969-9d98248d6614",
   "metadata": {},
   "outputs": [
    {
     "data": {
      "text/plain": [
       "10"
      ]
     },
     "execution_count": 31,
     "metadata": {},
     "output_type": "execute_result"
    }
   ],
   "source": [
    "len(py_list_2d)\n"
   ]
  },
  {
   "cell_type": "code",
   "execution_count": 32,
   "id": "440807df-c426-40a2-8043-59a33a94d0cc",
   "metadata": {},
   "outputs": [
    {
     "data": {
      "text/plain": [
       "10"
      ]
     },
     "execution_count": 32,
     "metadata": {},
     "output_type": "execute_result"
    }
   ],
   "source": [
    "len(np_array_2d)"
   ]
  },
  {
   "cell_type": "code",
   "execution_count": 23,
   "id": "f5926669-5ae0-4aae-8be5-dab88e44fb44",
   "metadata": {},
   "outputs": [
    {
     "data": {
      "text/plain": [
       "(10, 2)"
      ]
     },
     "execution_count": 23,
     "metadata": {},
     "output_type": "execute_result"
    }
   ],
   "source": [
    "np_array_2d.shape\n",
    "\n",
    "--> #IMPORTANT: only use () after a . if it is a function and not if its an attribute"
   ]
  },
  {
   "attachments": {},
   "cell_type": "markdown",
   "id": "8d7c023d",
   "metadata": {},
   "source": [
    "## 2.2 Arrays are fussy about type"
   ]
  },
  {
   "cell_type": "code",
   "execution_count": 38,
   "id": "526ec33c-3ff1-4794-8583-af28318cecca",
   "metadata": {},
   "outputs": [],
   "source": [
    "py_list = [1, 1.5, 'A']\n",
    "np_array = np.array(py_list)\n",
    "#arrays store only one type of element"
   ]
  },
  {
   "cell_type": "code",
   "execution_count": 39,
   "id": "f5409ace-53aa-41c2-b680-acdd70835d9c",
   "metadata": {},
   "outputs": [
    {
     "data": {
      "text/plain": [
       "[1, 1.5, 'A']"
      ]
     },
     "execution_count": 39,
     "metadata": {},
     "output_type": "execute_result"
    }
   ],
   "source": [
    "py_list"
   ]
  },
  {
   "cell_type": "code",
   "execution_count": 40,
   "id": "fe328002-a7b2-4ff3-a456-c497e2b9ca61",
   "metadata": {},
   "outputs": [
    {
     "data": {
      "text/plain": [
       "array(['1', '1.5', 'A'], dtype='<U32')"
      ]
     },
     "execution_count": 40,
     "metadata": {},
     "output_type": "execute_result"
    }
   ],
   "source": [
    "np_array"
   ]
  },
  {
   "attachments": {},
   "cell_type": "markdown",
   "id": "a2dd33c9",
   "metadata": {},
   "source": [
    "## 2.3 Adding a number"
   ]
  },
  {
   "cell_type": "code",
   "execution_count": 41,
   "id": "84e4f46d-aed8-46d1-b87b-5c1cef018ed3",
   "metadata": {},
   "outputs": [],
   "source": [
    "py_list = [1, 2, 3, 4, 5]\n",
    "np_array = np.array(py_list)         # Reusing the Python list\n",
    "                                     # to create a NEW\n",
    "                                     # NumPy array"
   ]
  },
  {
   "cell_type": "code",
   "execution_count": 43,
   "id": "6f11db8f-b9f3-4a3d-b138-8c675cff1ff6",
   "metadata": {},
   "outputs": [
    {
     "ename": "TypeError",
     "evalue": "can only concatenate list (not \"int\") to list",
     "output_type": "error",
     "traceback": [
      "\u001b[0;31m---------------------------------------------------------------------------\u001b[0m",
      "\u001b[0;31mTypeError\u001b[0m                                 Traceback (most recent call last)",
      "Cell \u001b[0;32mIn[43], line 1\u001b[0m\n\u001b[0;32m----> 1\u001b[0m \u001b[43mpy_list\u001b[49m\u001b[43m \u001b[49m\u001b[38;5;241;43m+\u001b[39;49m\u001b[43m \u001b[49m\u001b[38;5;241;43m10\u001b[39;49m\n",
      "\u001b[0;31mTypeError\u001b[0m: can only concatenate list (not \"int\") to list"
     ]
    }
   ],
   "source": [
    "py_list + 10  #does not work"
   ]
  },
  {
   "cell_type": "code",
   "execution_count": 46,
   "id": "36af0bd3-eee4-49ae-a39b-015d5ebfdd73",
   "metadata": {},
   "outputs": [
    {
     "data": {
      "text/plain": [
       "array([11, 12, 13, 14, 15])"
      ]
     },
     "execution_count": 46,
     "metadata": {},
     "output_type": "execute_result"
    }
   ],
   "source": [
    "np_array + 10 #adds 10 to all elements"
   ]
  },
  {
   "attachments": {},
   "cell_type": "markdown",
   "id": "891bd2ce",
   "metadata": {},
   "source": [
    "## 2.4 Adding another list"
   ]
  },
  {
   "cell_type": "code",
   "execution_count": 47,
   "id": "0986cded-aebd-4f11-be60-ea08dd8e8951",
   "metadata": {},
   "outputs": [],
   "source": [
    "py_list_1 = [1, 2, 3, 4, 5]\n",
    "py_list_2 = [10, 20, 30, 40, 50]\n",
    "\n",
    "np_array_1 = np.array(py_list_1)\n",
    "np_array_2 = np.array(py_list_2)"
   ]
  },
  {
   "cell_type": "code",
   "execution_count": 49,
   "id": "9ee14704-0250-44bf-b7f5-fb62c48197b9",
   "metadata": {},
   "outputs": [
    {
     "data": {
      "text/plain": [
       "[1, 2, 3, 4, 5, 10, 20, 30, 40, 50]"
      ]
     },
     "execution_count": 49,
     "metadata": {},
     "output_type": "execute_result"
    }
   ],
   "source": [
    "py_list_1 + py_list_2 #concantentation, extends list"
   ]
  },
  {
   "cell_type": "code",
   "execution_count": 50,
   "id": "0a25554b-58a0-4934-883a-15b5661cb2cf",
   "metadata": {},
   "outputs": [
    {
     "data": {
      "text/plain": [
       "array([11, 22, 33, 44, 55])"
      ]
     },
     "execution_count": 50,
     "metadata": {},
     "output_type": "execute_result"
    }
   ],
   "source": [
    "np_array_1 + np_array_2 #adds elements together"
   ]
  },
  {
   "attachments": {},
   "cell_type": "markdown",
   "id": "4bd3b230",
   "metadata": {},
   "source": [
    "## 2.5 Multiplying by a Number"
   ]
  },
  {
   "cell_type": "code",
   "execution_count": 25,
   "id": "8e3fae97-e74f-4f43-916f-38db4343eb87",
   "metadata": {},
   "outputs": [],
   "source": [
    "py_list = [1, 2, 3, 4, 5]\n",
    "np_array = np.array(py_list)         "
   ]
  },
  {
   "cell_type": "code",
   "execution_count": 53,
   "id": "f635691b-997c-485b-8396-6cceb67ba0cd",
   "metadata": {},
   "outputs": [
    {
     "data": {
      "text/plain": [
       "[1, 2, 3, 4, 5, 1, 2, 3, 4, 5]"
      ]
     },
     "execution_count": 53,
     "metadata": {},
     "output_type": "execute_result"
    }
   ],
   "source": [
    "py_list*2 #duplicates elements"
   ]
  },
  {
   "cell_type": "code",
   "execution_count": 55,
   "id": "9326fe73-be5c-4d4e-83b3-4c5032da1b14",
   "metadata": {},
   "outputs": [
    {
     "data": {
      "text/plain": [
       "array([ 2,  4,  6,  8, 10])"
      ]
     },
     "execution_count": 55,
     "metadata": {},
     "output_type": "execute_result"
    }
   ],
   "source": [
    "np_array*2 #multiplies elements"
   ]
  },
  {
   "attachments": {},
   "cell_type": "markdown",
   "id": "dffecbe6",
   "metadata": {},
   "source": [
    "## 2.6 Squaring"
   ]
  },
  {
   "cell_type": "code",
   "execution_count": 56,
   "id": "c38b22c4-0bf0-46a0-bbad-7eab1bd4bd8f",
   "metadata": {},
   "outputs": [],
   "source": [
    "py_list = [1, 2, 3, 4, 5]\n",
    "np_array = np.array(py_list)"
   ]
  },
  {
   "cell_type": "code",
   "execution_count": 58,
   "id": "8a15df5f-46a2-4ab4-b4fa-714406a9e9d5",
   "metadata": {},
   "outputs": [
    {
     "ename": "TypeError",
     "evalue": "unsupported operand type(s) for ** or pow(): 'list' and 'int'",
     "output_type": "error",
     "traceback": [
      "\u001b[0;31m---------------------------------------------------------------------------\u001b[0m",
      "\u001b[0;31mTypeError\u001b[0m                                 Traceback (most recent call last)",
      "Cell \u001b[0;32mIn[58], line 1\u001b[0m\n\u001b[0;32m----> 1\u001b[0m \u001b[43mpy_list\u001b[49m\u001b[38;5;241;43m*\u001b[39;49m\u001b[38;5;241;43m*\u001b[39;49m\u001b[38;5;241;43m2\u001b[39;49m\n",
      "\u001b[0;31mTypeError\u001b[0m: unsupported operand type(s) for ** or pow(): 'list' and 'int'"
     ]
    }
   ],
   "source": [
    "py_list**2 # ** for exponentiation"
   ]
  },
  {
   "cell_type": "code",
   "execution_count": 62,
   "id": "e0a7c4f3-ab13-405a-a389-1d4247ad6467",
   "metadata": {},
   "outputs": [
    {
     "data": {
      "text/plain": [
       "array([ 1,  4,  9, 16, 25])"
      ]
     },
     "execution_count": 62,
     "metadata": {},
     "output_type": "execute_result"
    }
   ],
   "source": [
    "np_array**2"
   ]
  },
  {
   "attachments": {},
   "cell_type": "markdown",
   "id": "8aea9701",
   "metadata": {},
   "source": [
    "## 2.7 Asking questions"
   ]
  },
  {
   "cell_type": "code",
   "execution_count": 63,
   "id": "1ee40b44-d341-46e3-b04f-6dac6385ffe8",
   "metadata": {},
   "outputs": [],
   "source": [
    "py_list = [1, 2, 3, 4, 5]\n",
    "np_array = np.array(py_list)         "
   ]
  },
  {
   "cell_type": "code",
   "execution_count": 64,
   "id": "eb34e3de-d7a3-458d-a40c-883315a5e27c",
   "metadata": {},
   "outputs": [
    {
     "data": {
      "text/plain": [
       "False"
      ]
     },
     "execution_count": 64,
     "metadata": {},
     "output_type": "execute_result"
    }
   ],
   "source": [
    "py_list ==3 #Works, but what is the question?"
   ]
  },
  {
   "cell_type": "code",
   "execution_count": 65,
   "id": "3c43b91b-1434-446c-86e1-3652d5555edc",
   "metadata": {},
   "outputs": [
    {
     "data": {
      "text/plain": [
       "array([False, False,  True, False, False])"
      ]
     },
     "execution_count": 65,
     "metadata": {},
     "output_type": "execute_result"
    }
   ],
   "source": [
    "np_array == 3"
   ]
  },
  {
   "cell_type": "code",
   "execution_count": 66,
   "id": "3a484450-b938-4f38-960e-9d4472db3d8c",
   "metadata": {},
   "outputs": [
    {
     "data": {
      "text/plain": [
       "array([False, False, False,  True,  True])"
      ]
     },
     "execution_count": 66,
     "metadata": {},
     "output_type": "execute_result"
    }
   ],
   "source": [
    "np_array >3"
   ]
  },
  {
   "cell_type": "markdown",
   "id": "45b701f7-1ae0-4a3c-98b7-6dd0f07d986b",
   "metadata": {},
   "source": [
    "## 2.8 Mathematics"
   ]
  },
  {
   "cell_type": "code",
   "execution_count": 67,
   "id": "ba928efb-b91f-4d38-8cff-b02f6cd39830",
   "metadata": {},
   "outputs": [],
   "source": [
    "py_list = [1, 2, 3, 4, 5]\n",
    "np_array = np.array(py_list)         "
   ]
  },
  {
   "cell_type": "code",
   "execution_count": 33,
   "id": "454897bd-8bce-4a26-a794-39265a5a6304",
   "metadata": {},
   "outputs": [
    {
     "data": {
      "text/plain": [
       "1"
      ]
     },
     "execution_count": 33,
     "metadata": {},
     "output_type": "execute_result"
    }
   ],
   "source": [
    "sum(py_list)     # sum() is a base Python function\n",
    "max(py_list)     # max() is a base Python function\n",
    "min(py_list)     # min() is a base Python function"
   ]
  },
  {
   "cell_type": "code",
   "execution_count": 74,
   "id": "5cfd1d2c-8483-4475-8725-3e9fbf4ab3a6",
   "metadata": {},
   "outputs": [],
   "source": [
    "x=sum(np_array)"
   ]
  },
  {
   "cell_type": "code",
   "execution_count": 75,
   "id": "61819078-95c7-4362-a304-b010fb6d139d",
   "metadata": {},
   "outputs": [
    {
     "data": {
      "text/plain": [
       "np.float64(2.0)"
      ]
     },
     "execution_count": 75,
     "metadata": {},
     "output_type": "execute_result"
    }
   ],
   "source": [
    "y=30\n",
    "y/x"
   ]
  },
  {
   "cell_type": "code",
   "execution_count": 81,
   "id": "2d64ca3c-6d32-41a4-8149-cec3b0deaf4a",
   "metadata": {},
   "outputs": [],
   "source": [
    "py_list_1 = [[1,1],[2,2],[3,3],[4,4]]\n",
    "np_array_1 = np.array(py_list_1)"
   ]
  },
  {
   "cell_type": "code",
   "execution_count": 87,
   "id": "26896fca-b64e-4176-92ce-f812cb955611",
   "metadata": {},
   "outputs": [
    {
     "data": {
      "text/plain": [
       "np.int64(20)"
      ]
     },
     "execution_count": 87,
     "metadata": {},
     "output_type": "execute_result"
    }
   ],
   "source": [
    "np_array_1.sum()"
   ]
  },
  {
   "cell_type": "code",
   "execution_count": 86,
   "id": "850e7990-361d-438c-8a6d-d44b962f44fe",
   "metadata": {},
   "outputs": [
    {
     "data": {
      "text/plain": [
       "array([2, 4, 6, 8])"
      ]
     },
     "execution_count": 86,
     "metadata": {},
     "output_type": "execute_result"
    }
   ],
   "source": [
    "np_array_1.sum(axis=1)"
   ]
  },
  {
   "cell_type": "code",
   "execution_count": 34,
   "id": "ade67d4f-06ac-45aa-bb94-712fa176ef7c",
   "metadata": {},
   "outputs": [
    {
     "data": {
      "text/plain": [
       "np.float64(3.0)"
      ]
     },
     "execution_count": 34,
     "metadata": {},
     "output_type": "execute_result"
    }
   ],
   "source": [
    "np_array.mean()"
   ]
  },
  {
   "cell_type": "code",
   "execution_count": 35,
   "id": "9bdb4deb-eb71-4294-8388-05e84f52287f",
   "metadata": {},
   "outputs": [
    {
     "data": {
      "text/plain": [
       "np.float64(1.4142135623730951)"
      ]
     },
     "execution_count": 35,
     "metadata": {},
     "output_type": "execute_result"
    }
   ],
   "source": [
    "np_array.std()"
   ]
  },
  {
   "attachments": {},
   "cell_type": "markdown",
   "id": "fac357dc",
   "metadata": {},
   "source": [
    "## Footnotes"
   ]
  },
  {
   "cell_type": "markdown",
   "id": "8eedadd8-2543-4938-a8c8-01357053bcaa",
   "metadata": {},
   "source": [
    "--> #IMPORTANT: in general, an operation on a list works on the **whole** list. In contrast, an operation on an array works on the **individual elements** of the array"
   ]
  }
 ],
 "metadata": {
  "kernelspec": {
   "display_name": "Python 3 (ipykernel)",
   "language": "python",
   "name": "python3"
  },
  "language_info": {
   "codemirror_mode": {
    "name": "ipython",
    "version": 3
   },
   "file_extension": ".py",
   "mimetype": "text/x-python",
   "name": "python",
   "nbconvert_exporter": "python",
   "pygments_lexer": "ipython3",
   "version": "3.12.2"
  },
  "toc": {
   "base_numbering": 1,
   "nav_menu": {},
   "number_sections": true,
   "sideBar": true,
   "skip_h1_title": false,
   "title_cell": "Table of Contents",
   "title_sidebar": "Contents",
   "toc_cell": false,
   "toc_position": {},
   "toc_section_display": true,
   "toc_window_display": false
  },
  "vscode": {
   "interpreter": {
    "hash": "31f2aee4e71d21fbe5cf8b01ff0e069b9275f58929596ceb00d14d90e3e16cd6"
   }
  }
 },
 "nbformat": 4,
 "nbformat_minor": 5
}
