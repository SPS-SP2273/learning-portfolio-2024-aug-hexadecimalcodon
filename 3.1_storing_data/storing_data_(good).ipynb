{
 "cells": [
  {
   "attachments": {},
   "cell_type": "markdown",
   "id": "123456",
   "metadata": {},
   "source": [
    "<div style=\"text-align:left;font-size:2em\"><span style=\"font-weight:bolder;font-size:1.25em\">SP2273 | Learning Portfolio</span><br><br><span style=\"font-weight:bold;color:darkred\">Storing Data (Good)</span></div>"
   ]
  },
  {
   "attachments": {},
   "cell_type": "markdown",
   "id": "fe34fc8a",
   "metadata": {},
   "source": [
    "# What to expect in this chapter"
   ]
  },
  {
   "attachments": {},
   "cell_type": "markdown",
   "id": "e2711520",
   "metadata": {},
   "source": [
    "# 1 Subsetting: Indexing and Slicing"
   ]
  },
  {
   "cell_type": "code",
   "execution_count": 2,
   "id": "7d4cac24-25e3-41fd-9713-ef93ad17fb62",
   "metadata": {},
   "outputs": [],
   "source": [
    "# subsetting: select something from a list/array\n",
    "# indexing: selecting one element\n",
    "# slicing: select a range of elements"
   ]
  },
  {
   "cell_type": "code",
   "execution_count": 1,
   "id": "2f50d33c-c457-4efc-bd43-fc94b524ca55",
   "metadata": {},
   "outputs": [],
   "source": [
    "import numpy as np"
   ]
  },
  {
   "attachments": {},
   "cell_type": "markdown",
   "id": "f52a1d67",
   "metadata": {},
   "source": [
    "## 1.1 Lists & Arrays in 1D | Subsetting & Indexing"
   ]
  },
  {
   "cell_type": "code",
   "execution_count": 3,
   "id": "88010f62-f43b-4bd2-b11a-56f5a99cdf32",
   "metadata": {},
   "outputs": [
    {
     "name": "stdout",
     "output_type": "stream",
     "text": [
      "['a1' 'b2' 'c3' 'd4']\n",
      "['c3' 'd4' 'e5' 'f6']\n",
      "['b2' 'd4' 'f6']\n",
      "['f6' 'e5' 'd4']\n",
      "['a1' 'b2' 'c3' 'd4' 'e5' 'f6']\n",
      "['j10' 'i9' 'h8' 'g7' 'f6' 'e5' 'd4' 'c3' 'b2' 'a1']\n"
     ]
    }
   ],
   "source": [
    "py_list=[\"a1\", \"b2\", \"c3\", \"d4\", \"e5\",\n",
    "         \"f6\", \"g7\", \"h8\", \"i9\", \"j10\"]\n",
    "np_array=np.array(py_list)\n",
    "\n",
    "# Pick one\n",
    "x = py_list  # OR\n",
    "x = np_array\n",
    "\n",
    "#specify 2 indices to indicate start and end for slicing\n",
    "\n",
    "print(x[0:4]) #gives 4-0 elements, 1st to 4th position\n",
    "print(x[2:6]) #gives 6-2 elements, 2nd to 5th position\n",
    "print(x[1:6:2]) #steps of 2\n",
    "print(x[5:2:-1]) #in reverse\n",
    "print(x[:-4]) #everything except last 4 (everything backwards from f6)\n",
    "print(x[::-1])\n",
    "\n",
    "#in general, [a:b] will give all elements from position a to b-1 || gives b-a elements in total (a-b+1)\\\n",
    "#think of it as being like [a,b) in set notation"
   ]
  },
  {
   "attachments": {},
   "cell_type": "markdown",
   "id": "17102194",
   "metadata": {},
   "source": [
    "## 1.2 Arrays only | Subsetting by masking"
   ]
  },
  {
   "cell_type": "code",
   "execution_count": 25,
   "id": "3efbc882-46de-491d-9fdd-e71b83e810ff",
   "metadata": {},
   "outputs": [
    {
     "data": {
      "text/plain": [
       "array([False, False, False,  True,  True,  True,  True, False, False,\n",
       "       False])"
      ]
     },
     "execution_count": 25,
     "metadata": {},
     "output_type": "execute_result"
    }
   ],
   "source": [
    "py_list = [1, 2, 3, 4, 5, 6, 7, 8, 9 ,10]\n",
    "np_array = np.array(py_list)\n",
    "my_mask = (np_array > 3) & (np_array < 8)    # cannot use 'and' as it is a python function, wont work for numpy\n",
    "my_mask\n",
    "#mask shows all elements that fit certain parameters as true"
   ]
  },
  {
   "cell_type": "code",
   "execution_count": 29,
   "id": "a52715ca-c1fd-4378-911b-a314eb76b911",
   "metadata": {},
   "outputs": [
    {
     "data": {
      "text/plain": [
       "array([4, 5, 6, 7])"
      ]
     },
     "execution_count": 29,
     "metadata": {},
     "output_type": "execute_result"
    }
   ],
   "source": [
    "np_array[my_mask] #new array showing only true elements"
   ]
  },
  {
   "cell_type": "code",
   "execution_count": 34,
   "id": "81fbdd56-9a37-4204-b5da-e3af03a08d7c",
   "metadata": {},
   "outputs": [
    {
     "data": {
      "text/plain": [
       "array([4, 5, 6, 7])"
      ]
     },
     "execution_count": 34,
     "metadata": {},
     "output_type": "execute_result"
    }
   ],
   "source": [
    "np_array[(np_array > 3) & (np_array < 8)] #faster method"
   ]
  },
  {
   "cell_type": "code",
   "execution_count": 42,
   "id": "f10c933d-5b17-4588-90ab-6e01835c5771",
   "metadata": {},
   "outputs": [
    {
     "data": {
      "text/plain": [
       "array([ 1,  2,  9, 10])"
      ]
     },
     "execution_count": 42,
     "metadata": {},
     "output_type": "execute_result"
    }
   ],
   "source": [
    "np_array[(np_array < 3) | (np_array > 8)] # | means 'OR'"
   ]
  },
  {
   "cell_type": "code",
   "execution_count": 37,
   "id": "e3bd55eb-82b4-4fb2-a6ef-45b5503fc509",
   "metadata": {},
   "outputs": [
    {
     "data": {
      "text/plain": [
       "array([1, 2, 3])"
      ]
     },
     "execution_count": 37,
     "metadata": {},
     "output_type": "execute_result"
    }
   ],
   "source": [
    "np_array[~(np_array > 3)]                 # '~' means 'NOT'\n",
    "#~ is used to invert mask, give all elements that are NOT  over 3"
   ]
  },
  {
   "attachments": {},
   "cell_type": "markdown",
   "id": "cefedf94",
   "metadata": {},
   "source": [
    "## 1.3 Lists & Arrays in 2D | Indexing & Slicing"
   ]
  },
  {
   "cell_type": "code",
   "execution_count": 5,
   "id": "109f209d-4658-4562-a495-fbafd4bd51d4",
   "metadata": {},
   "outputs": [
    {
     "data": {
      "text/plain": [
       "array(['4', 'D'], dtype='<U21')"
      ]
     },
     "execution_count": 5,
     "metadata": {},
     "output_type": "execute_result"
    }
   ],
   "source": [
    "py_list_2d = [[1, \"A\"], [2, \"B\"], [3, \"C\"], [4, \"D\"],\n",
    "              [5, \"E\"], [6, \"F\"], [7, \"G\"], [8, \"H\"],\n",
    "              [9, \"I\"], [10, \"J\"]]\n",
    "\n",
    "np_array_2d = np.array(py_list_2d)\n",
    "\n",
    "py_list_2d[3] #set of number and letter at 4th pos\n",
    "np_array_2d[3] #set of number and letter at 4th pos"
   ]
  },
  {
   "cell_type": "code",
   "execution_count": 50,
   "id": "4fa9c401-3e43-4c54-9912-fbf1ad0e4889",
   "metadata": {},
   "outputs": [
    {
     "data": {
      "text/plain": [
       "np.str_('4')"
      ]
     },
     "execution_count": 50,
     "metadata": {},
     "output_type": "execute_result"
    }
   ],
   "source": [
    "py_list_2d[3][0]\n",
    "np_array_2d[3, 0]\n",
    "#both show first element at 4th pos\n",
    "#lists don't use comma, arrays do"
   ]
  },
  {
   "cell_type": "code",
   "execution_count": 57,
   "id": "f23cbaf2-5cf8-4a54-8a9a-06af0c17ad16",
   "metadata": {},
   "outputs": [
    {
     "data": {
      "text/plain": [
       "(1, 'A')"
      ]
     },
     "execution_count": 57,
     "metadata": {},
     "output_type": "execute_result"
    }
   ],
   "source": [
    "py_list_2d[0][0],py_list_2d[0][1]\n"
   ]
  },
  {
   "cell_type": "code",
   "execution_count": 8,
   "id": "0f537abd-dab1-496d-be4d-86588db011af",
   "metadata": {},
   "outputs": [
    {
     "data": {
      "text/plain": [
       "array([['1', 'A'],\n",
       "       ['2', 'B'],\n",
       "       ['3', 'C']], dtype='<U21')"
      ]
     },
     "execution_count": 8,
     "metadata": {},
     "output_type": "execute_result"
    }
   ],
   "source": [
    "py_list_2d[:3]\n",
    "np_array_2d[:3]\n",
    "# both show 1st 3 elements"
   ]
  },
  {
   "cell_type": "code",
   "execution_count": 13,
   "id": "e53088a7-162a-4b1a-b373-d5153b03309c",
   "metadata": {},
   "outputs": [
    {
     "data": {
      "text/plain": [
       "array(['1', '2', '3'], dtype='<U21')"
      ]
     },
     "execution_count": 13,
     "metadata": {},
     "output_type": "execute_result"
    }
   ],
   "source": [
    "np_array_2d[:3,0]"
   ]
  },
  {
   "cell_type": "code",
   "execution_count": 70,
   "id": "601beac7-aa54-4b28-b6aa-63d684753413",
   "metadata": {},
   "outputs": [
    {
     "data": {
      "text/plain": [
       "array(['1', '2', '3'], dtype='<U21')"
      ]
     },
     "execution_count": 70,
     "metadata": {},
     "output_type": "execute_result"
    }
   ],
   "source": [
    "py_list_2d[:3]  # first 3 sets\n",
    "py_list_2d[:3][0] # all sets before pos 2 AND 1st set\n",
    "\n",
    "np_array_2d[:3,0] # first element in each set, for the first 3 sets"
   ]
  },
  {
   "cell_type": "code",
   "execution_count": 18,
   "id": "1d2f73ab-2aad-4d00-89ff-d5eeaed0240a",
   "metadata": {},
   "outputs": [
    {
     "data": {
      "text/plain": [
       "array(['1', '2', '3', '4', '5', '6', '7', '8', '9', '10'], dtype='<U21')"
      ]
     },
     "execution_count": 18,
     "metadata": {},
     "output_type": "execute_result"
    }
   ],
   "source": [
    "py_list_2d[3:6][0] #within the sub-list of 3-6, pulls the pair at the first pos\n",
    "np_array_2d[3:6, 0] #pulls first element from sub-list of pos 3-6\n",
    "np_array_2d[:, 0] #all first elements"
   ]
  },
  {
   "attachments": {},
   "cell_type": "markdown",
   "id": "07a48ad4",
   "metadata": {},
   "source": [
    "## 1.4 Growing lists"
   ]
  },
  {
   "cell_type": "code",
   "execution_count": null,
   "id": "dad76087-747b-48b7-86eb-caa964e248f8",
   "metadata": {},
   "outputs": [],
   "source": [
    "#numpy arrays are great for math operations as long as the size isn't changed"
   ]
  },
  {
   "cell_type": "code",
   "execution_count": 19,
   "id": "db24ae53-2335-442e-96d5-eef2058ef566",
   "metadata": {},
   "outputs": [
    {
     "data": {
      "text/plain": [
       "[1, 2, 1, 2, 1, 2, 1, 2, 1, 2]"
      ]
     },
     "execution_count": 19,
     "metadata": {},
     "output_type": "execute_result"
    }
   ],
   "source": [
    "x=[1, 2]*5\n",
    "x"
   ]
  },
  {
   "cell_type": "code",
   "execution_count": 71,
   "id": "2db3b9f9-cadd-45ef-9f9d-dbf23d5c4a12",
   "metadata": {},
   "outputs": [
    {
     "data": {
      "text/plain": [
       "[1, 2, 3, 4]"
      ]
     },
     "execution_count": 71,
     "metadata": {},
     "output_type": "execute_result"
    }
   ],
   "source": [
    "x=[1]\n",
    "x= x + [2]\n",
    "x= x + [3]\n",
    "x= x + [4]\n",
    "x\n",
    "x=[1]\n",
    "x+= [2]\n",
    "x+= [3]\n",
    "x+= [4]\n",
    "x\n",
    "x=[1]\n",
    "x.append(2)\n",
    "x.append(3)\n",
    "x.append(4)\n",
    "x\n",
    "\n",
    "#.append is fastest"
   ]
  },
  {
   "cell_type": "code",
   "execution_count": 22,
   "id": "1a78b2f4-af35-41b9-b54a-513f112685fe",
   "metadata": {},
   "outputs": [
    {
     "data": {
      "text/plain": [
       "[1, 2, 3, 4, 5, 6]"
      ]
     },
     "execution_count": 22,
     "metadata": {},
     "output_type": "execute_result"
    }
   ],
   "source": [
    "x = [1, 2, 3]\n",
    "x += [4, 5, 6] #same result as extend to get [1,2,3,4,5,6]\n",
    "x\n",
    "#x=[1, 2, 3]\n",
    "#x.extend([4, 5, 6]) #naturally adds 4,5,6 to original x list to get [1,2,3,4,5,6]\n",
    "#x\n",
    "#x=[1, 2, 3]\n",
    "#x.append([4, 5, 6]) #adds the list [4,5,6] to the original x list to get [1,2,3,[4,5,6]]\n",
    "#x"
   ]
  },
  {
   "attachments": {},
   "cell_type": "markdown",
   "id": "a70dc30f",
   "metadata": {},
   "source": [
    "# Some loose ends"
   ]
  },
  {
   "attachments": {},
   "cell_type": "markdown",
   "id": "f7633085",
   "metadata": {},
   "source": [
    "## 1.5 Tuples"
   ]
  },
  {
   "cell_type": "code",
   "execution_count": 74,
   "id": "816561ed-4a61-489d-bb97-66247482a340",
   "metadata": {},
   "outputs": [
    {
     "name": "stdout",
     "output_type": "stream",
     "text": [
      "1\n"
     ]
    }
   ],
   "source": [
    "a = (1,2,3) # Define tuple\n",
    "\n",
    "print(a[0])\n",
    "#tuples use () e.g (a,b,c)\n",
    "#tuples are immutable and do not change after being made"
   ]
  },
  {
   "cell_type": "code",
   "execution_count": 75,
   "id": "be6d6cbc-2ae5-4177-8824-524787378033",
   "metadata": {},
   "outputs": [
    {
     "ename": "TypeError",
     "evalue": "'tuple' object does not support item assignment",
     "output_type": "error",
     "traceback": [
      "\u001b[0;31m---------------------------------------------------------------------------\u001b[0m",
      "\u001b[0;31mTypeError\u001b[0m                                 Traceback (most recent call last)",
      "Cell \u001b[0;32mIn[75], line 2\u001b[0m\n\u001b[1;32m      1\u001b[0m \u001b[38;5;66;03m# The following will NOT work\u001b[39;00m\n\u001b[0;32m----> 2\u001b[0m \u001b[43ma\u001b[49m\u001b[43m[\u001b[49m\u001b[38;5;241;43m0\u001b[39;49m\u001b[43m]\u001b[49m\u001b[38;5;241m=\u001b[39m\u001b[38;5;241m-\u001b[39m\u001b[38;5;241m1\u001b[39m\n\u001b[1;32m      3\u001b[0m a[\u001b[38;5;241m0\u001b[39m]\u001b[38;5;241m+\u001b[39m\u001b[38;5;241m=\u001b[39m [\u001b[38;5;241m10\u001b[39m]\n",
      "\u001b[0;31mTypeError\u001b[0m: 'tuple' object does not support item assignment"
     ]
    }
   ],
   "source": [
    "# The following will NOT work\n",
    "a[0]=-1\n",
    "a[0]+= [10]"
   ]
  },
  {
   "attachments": {},
   "cell_type": "markdown",
   "id": "361787ac",
   "metadata": {},
   "source": [
    "## 1.6 Be VERY careful when copying"
   ]
  },
  {
   "cell_type": "code",
   "execution_count": 79,
   "id": "23bf1b7d-fb2a-4d64-8c18-eba43b2d4564",
   "metadata": {},
   "outputs": [
    {
     "data": {
      "text/plain": [
       "[1, 2, 3]"
      ]
     },
     "execution_count": 79,
     "metadata": {},
     "output_type": "execute_result"
    }
   ],
   "source": [
    "x = [1,2,3]\n",
    "y = x.copy()\n"
   ]
  },
  {
   "attachments": {},
   "cell_type": "markdown",
   "id": "310ae546",
   "metadata": {},
   "source": [
    "## Footnotes"
   ]
  }
 ],
 "metadata": {
  "kernelspec": {
   "display_name": "Python 3 (ipykernel)",
   "language": "python",
   "name": "python3"
  },
  "language_info": {
   "codemirror_mode": {
    "name": "ipython",
    "version": 3
   },
   "file_extension": ".py",
   "mimetype": "text/x-python",
   "name": "python",
   "nbconvert_exporter": "python",
   "pygments_lexer": "ipython3",
   "version": "3.12.2"
  },
  "toc": {
   "base_numbering": 1,
   "nav_menu": {},
   "number_sections": true,
   "sideBar": true,
   "skip_h1_title": false,
   "title_cell": "Table of Contents",
   "title_sidebar": "Contents",
   "toc_cell": false,
   "toc_position": {},
   "toc_section_display": true,
   "toc_window_display": false
  },
  "vscode": {
   "interpreter": {
    "hash": "31f2aee4e71d21fbe5cf8b01ff0e069b9275f58929596ceb00d14d90e3e16cd6"
   }
  }
 },
 "nbformat": 4,
 "nbformat_minor": 5
}
