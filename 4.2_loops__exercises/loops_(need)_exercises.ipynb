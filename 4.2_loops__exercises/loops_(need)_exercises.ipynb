{
 "cells": [
  {
   "attachments": {},
   "cell_type": "markdown",
   "id": "123456",
   "metadata": {},
   "source": [
    "<div style=\"text-align:left;font-size:2em\"><span style=\"font-weight:bolder;font-size:1.25em\">SP2273 | Learning Portfolio</span><br><br><span style=\"font-weight:bold;color:darkred\">Loops (Need) Exercises</span></div>"
   ]
  },
  {
   "cell_type": "markdown",
   "id": "74b77a0c-9e49-4a5e-ab96-6bfb699b34a8",
   "metadata": {},
   "source": [
    "# Exercise 1 (Celsius to Fahrenheit)"
   ]
  },
  {
   "cell_type": "code",
   "execution_count": 1,
   "id": "70637ba7-d0b6-45d1-b15a-a18b92500ee4",
   "metadata": {},
   "outputs": [],
   "source": [
    "import numpy as np"
   ]
  },
  {
   "cell_type": "code",
   "execution_count": 2,
   "id": "570c2104-80a1-4290-ac2c-d05604635465",
   "metadata": {},
   "outputs": [
    {
     "name": "stdout",
     "output_type": "stream",
     "text": [
      "0, 32.0\n",
      "5, 41.0\n",
      "10, 50.0\n",
      "15, 59.0\n",
      "20, 68.0\n",
      "25, 77.0\n",
      "30, 86.0\n",
      "35, 95.0\n",
      "40, 104.0\n",
      "45, 113.0\n",
      "50, 122.0\n"
     ]
    }
   ],
   "source": [
    "temperatures_celsius = [\n",
    "    0, 5, 10, 15, 20, 25,\n",
    "    30, 35, 40, 45, 50]\n",
    "\n",
    "x = np.array(temperatures_celsius)\n",
    "\n",
    "for x in temperatures_celsius:\n",
    "    print(f'{x}, {x*9/5+32}')"
   ]
  },
  {
   "cell_type": "markdown",
   "id": "ac4d6189-35b7-42c8-bb9d-d1eeef9d29f0",
   "metadata": {},
   "source": [
    "# Exercise 2 (Multiplication table)"
   ]
  },
  {
   "cell_type": "code",
   "execution_count": 3,
   "id": "de2a5fa4-4648-4410-b960-af5471bf0aa0",
   "metadata": {},
   "outputs": [
    {
     "name": "stdout",
     "output_type": "stream",
     "text": [
      "A1\tA2\tA3\t\n",
      "\n",
      "B1\tB2\tB3\t\n",
      "\n",
      "C1\tC2\tC3\t\n",
      "\n"
     ]
    }
   ],
   "source": [
    "for letter in ['A', 'B', 'C']:\n",
    "    for number in [1, 2, 3]:     # nested for loop\n",
    "        print(f'{letter}{number}', end='\\t')\n",
    "    print('\\n')"
   ]
  },
  {
   "cell_type": "code",
   "execution_count": 4,
   "id": "c787ce73-62d0-41a5-9966-53601562144b",
   "metadata": {},
   "outputs": [
    {
     "name": "stdout",
     "output_type": "stream",
     "text": [
      "1 :\t1\t2\t3\t4\t5\t\n",
      "\n",
      "2 :\t2\t4\t6\t8\t10\t\n",
      "\n",
      "3 :\t3\t6\t9\t12\t15\t\n",
      "\n",
      "4 :\t4\t8\t12\t16\t20\t\n",
      "\n",
      "5 :\t5\t10\t15\t20\t25\t\n",
      "\n"
     ]
    }
   ],
   "source": [
    "for i in range (1,6):\n",
    "    print(f'{i} :', end = '\\t') \n",
    "    for j in range (1,6):\n",
    "        print(f'{i*j}', end = '\\t') \n",
    "    print('\\n')"
   ]
  },
  {
   "cell_type": "markdown",
   "id": "d3230736-a32f-42c8-bdc8-50d8e33519b3",
   "metadata": {},
   "source": [
    "# Exercise 3 (Simulating a Coin Flip Experiment)  "
   ]
  },
  {
   "cell_type": "code",
   "execution_count": 1,
   "id": "0b1646a5-b15a-4652-8e38-f9808576d2ec",
   "metadata": {},
   "outputs": [],
   "source": [
    "import numpy as np"
   ]
  },
  {
   "cell_type": "code",
   "execution_count": 6,
   "id": "df0b16fa-2e18-47ed-9c9f-69785ffe3415",
   "metadata": {},
   "outputs": [
    {
     "data": {
      "text/plain": [
       "array([0.37328857, 0.64177414, 0.72551509, 0.18295255, 0.83485704,\n",
       "       0.15521348, 0.50364505, 0.81408887, 0.23709603, 0.74452987])"
      ]
     },
     "execution_count": 6,
     "metadata": {},
     "output_type": "execute_result"
    }
   ],
   "source": [
    "np.random.rand(10)"
   ]
  },
  {
   "cell_type": "code",
   "execution_count": 38,
   "id": "000b5b9a-1d03-4457-a308-a6919cca560b",
   "metadata": {},
   "outputs": [
    {
     "name": "stdout",
     "output_type": "stream",
     "text": [
      "Experiment 1: No. of Heads = 2\n",
      "Experiment 2: No. of Heads = 7\n",
      "Experiment 3: No. of Heads = 6\n",
      "Experiment 4: No. of Heads = 4\n",
      "Experiment 5: No. of Heads = 6\n",
      "Experiment 6: No. of Heads = 6\n",
      "Experiment 7: No. of Heads = 3\n",
      "Experiment 8: No. of Heads = 3\n",
      "Experiment 9: No. of Heads = 3\n",
      "Experiment 10: No. of Heads = 6\n"
     ]
    }
   ],
   "source": [
    "i=0\n",
    "while i!=10:\n",
    "    i+=1\n",
    "    a=0\n",
    "    x=np.random.rand(10)\n",
    "    for number in x:\n",
    "        if number>0.5:\n",
    "            a += 1\n",
    "    print(f'Experiment {i}: No. of Heads = {a}')"
   ]
  }
 ],
 "metadata": {
  "kernelspec": {
   "display_name": "Python 3 (ipykernel)",
   "language": "python",
   "name": "python3"
  },
  "language_info": {
   "codemirror_mode": {
    "name": "ipython",
    "version": 3
   },
   "file_extension": ".py",
   "mimetype": "text/x-python",
   "name": "python",
   "nbconvert_exporter": "python",
   "pygments_lexer": "ipython3",
   "version": "3.12.2"
  },
  "toc": {
   "base_numbering": 1,
   "nav_menu": {},
   "number_sections": true,
   "sideBar": true,
   "skip_h1_title": false,
   "title_cell": "Table of Contents",
   "title_sidebar": "Contents",
   "toc_cell": false,
   "toc_position": {},
   "toc_section_display": true,
   "toc_window_display": false
  },
  "vscode": {
   "interpreter": {
    "hash": "31f2aee4e71d21fbe5cf8b01ff0e069b9275f58929596ceb00d14d90e3e16cd6"
   }
  }
 },
 "nbformat": 4,
 "nbformat_minor": 5
}
