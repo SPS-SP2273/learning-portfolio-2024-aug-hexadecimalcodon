{
 "cells": [
  {
   "attachments": {},
   "cell_type": "markdown",
   "id": "123456",
   "metadata": {},
   "source": [
    "<div style=\"text-align:left;font-size:2em\"><span style=\"font-weight:bolder;font-size:1.25em\">SP2273 | Learning Portfolio</span><br><br><span style=\"font-weight:bold;color:darkred\">Loops (Good) Exercises</span></div>"
   ]
  },
  {
   "cell_type": "markdown",
   "id": "313ab68d-26b0-456c-a72d-783d2dbd28e0",
   "metadata": {},
   "source": [
    "# Exercise 1 (Make me an odd list) "
   ]
  },
  {
   "cell_type": "code",
   "execution_count": 1,
   "id": "2dfb5fcd-5703-46e5-b9e0-335fb8fc035b",
   "metadata": {},
   "outputs": [],
   "source": [
    "import numpy as np"
   ]
  },
  {
   "cell_type": "code",
   "execution_count": 37,
   "id": "ff7cde47-419d-4e34-a938-b664bf7d1668",
   "metadata": {},
   "outputs": [
    {
     "data": {
      "text/plain": [
       "[1, 9, 25, 49, 81]"
      ]
     },
     "execution_count": 37,
     "metadata": {},
     "output_type": "execute_result"
    }
   ],
   "source": [
    "list = []\n",
    "for number in range(10):\n",
    "    if number % 2 == 0:\n",
    "        continue\n",
    "    list.append(number**2)\n",
    "\n",
    "list"
   ]
  },
  {
   "cell_type": "markdown",
   "id": "cceb06de-ed00-4ca3-8c64-7901224e11d1",
   "metadata": {},
   "source": [
    "# Exercise 2 (Make me another odd list)"
   ]
  },
  {
   "cell_type": "code",
   "execution_count": 34,
   "id": "64bbefcd-678c-47e2-b085-1a1dbace5c2d",
   "metadata": {},
   "outputs": [
    {
     "data": {
      "text/plain": [
       "[1, 9, 25, 49, 81]"
      ]
     },
     "execution_count": 34,
     "metadata": {},
     "output_type": "execute_result"
    }
   ],
   "source": [
    "[number**2 for number in range(10) if number % 2 != 0]"
   ]
  },
  {
   "cell_type": "markdown",
   "id": "78fa1579-e1dd-464d-a415-f786e3e98496",
   "metadata": {},
   "source": [
    "# Exercise 3 (Time me!)"
   ]
  },
  {
   "cell_type": "code",
   "execution_count": 3,
   "id": "783853e9-e10b-4cf0-858b-d6918f8ec3f8",
   "metadata": {},
   "outputs": [
    {
     "name": "stdout",
     "output_type": "stream",
     "text": [
      "662 ns ± 2.63 ns per loop (mean ± std. dev. of 7 runs, 1,000,000 loops each)\n"
     ]
    }
   ],
   "source": [
    "%%timeit #use 2 % for timeit\n",
    "list = []\n",
    "for number in range(10):\n",
    "    if number % 2 == 0:\n",
    "        continue\n",
    "    list.append(number**2)\n",
    "\n",
    "list"
   ]
  },
  {
   "cell_type": "code",
   "execution_count": 1,
   "id": "a80beb50-7d52-4e6a-9ac0-c6fa5b8de57e",
   "metadata": {},
   "outputs": [
    {
     "name": "stdout",
     "output_type": "stream",
     "text": [
      "414 ns ± 2.85 ns per loop (mean ± std. dev. of 7 runs, 1,000,000 loops each)\n"
     ]
    }
   ],
   "source": [
    "%%timeit\n",
    "[number**2 for number in range(10) if number % 2 != 0]"
   ]
  },
  {
   "cell_type": "markdown",
   "id": "4281c953-f9ad-4ded-8315-00e0961ca43a",
   "metadata": {},
   "source": [
    "# Exercise 4 (A problem of decay)"
   ]
  },
  {
   "cell_type": "code",
   "execution_count": 5,
   "id": "adc6f053-b618-4a1f-b7e8-85a345eb2989",
   "metadata": {},
   "outputs": [
    {
     "name": "stdout",
     "output_type": "stream",
     "text": [
      "[95.0, 90.25, 85.7375, 81.45062499999999, 77.37809374999999, 73.50918906249998, 69.83372960937498, 66.34204312890623, 63.02494097246091, 59.87369392383786, 56.880009227645964, 54.03600876626366, 51.33420832795048]\n",
      " The sample takes 14 years to reduce to half its original amount.\n"
     ]
    }
   ],
   "source": [
    "x = []\n",
    "number = 100\n",
    "while number <= 100:\n",
    "    number*=0.95\n",
    "    if number <= 50:\n",
    "        break\n",
    "    x.append(number)\n",
    "\n",
    "print(x)\n",
    "print (f' The sample takes {len(x)+1} years to reduce to half its original amount.')"
   ]
  },
  {
   "cell_type": "markdown",
   "id": "3aabb50f-d7b6-496d-af18-c59e1f72bb36",
   "metadata": {},
   "source": [
    "# Exercise 5 (Changes in CO2)"
   ]
  },
  {
   "cell_type": "code",
   "execution_count": 6,
   "id": "f50fbae1-5957-4424-9452-2835a5b7f53b",
   "metadata": {},
   "outputs": [],
   "source": [
    "import numpy as np"
   ]
  },
  {
   "cell_type": "code",
   "execution_count": 12,
   "id": "39d1395c-b6f3-4859-9977-3d63bee3425e",
   "metadata": {},
   "outputs": [
    {
     "name": "stdout",
     "output_type": "stream",
     "text": [
      " The year with a significiant change in concentration is 2016 and the change is 3.41 ppm.\n"
     ]
    }
   ],
   "source": [
    "co2_data = [\n",
    "    (2000, 369.55), (2001, 371.14), (2002, 373.28), \n",
    "    (2003, 375.80), (2004, 377.52), (2005, 379.80), \n",
    "    (2006, 381.90), (2007, 383.79), (2008, 385.60), \n",
    "    (2009, 387.43), (2010, 389.90), (2011, 391.65), \n",
    "    (2012, 393.85), (2013, 396.52), (2014, 398.65),\n",
    "    (2015, 400.83), (2016, 404.24), (2017, 406.55), \n",
    "    (2018, 408.52), (2019, 411.44), (2020, 414.24)]\n",
    "\n",
    "increase = []\n",
    "for i in range (len(co2_data)):\n",
    "    year, co2_level = co2_data[i]\n",
    "    previous_year, previous_co2_level = co2_data[i-1]\n",
    "    change = co2_level - previous_co2_level\n",
    "    if change >=3:\n",
    "        increase.append((year, change))\n",
    "\n",
    "for year, change in increase:\n",
    "    print(f' The year with a significiant change in concentration is {year} and the change is {change:.2f} ppm.')\n",
    "    "
   ]
  }
 ],
 "metadata": {
  "kernelspec": {
   "display_name": "Python 3 (ipykernel)",
   "language": "python",
   "name": "python3"
  },
  "language_info": {
   "codemirror_mode": {
    "name": "ipython",
    "version": 3
   },
   "file_extension": ".py",
   "mimetype": "text/x-python",
   "name": "python",
   "nbconvert_exporter": "python",
   "pygments_lexer": "ipython3",
   "version": "3.12.2"
  },
  "toc": {
   "base_numbering": 1,
   "nav_menu": {},
   "number_sections": true,
   "sideBar": true,
   "skip_h1_title": false,
   "title_cell": "Table of Contents",
   "title_sidebar": "Contents",
   "toc_cell": false,
   "toc_position": {},
   "toc_section_display": true,
   "toc_window_display": false
  },
  "vscode": {
   "interpreter": {
    "hash": "31f2aee4e71d21fbe5cf8b01ff0e069b9275f58929596ceb00d14d90e3e16cd6"
   }
  }
 },
 "nbformat": 4,
 "nbformat_minor": 5
}
